{
 "cells": [
  {
   "cell_type": "markdown",
   "id": "edbdcc37",
   "metadata": {},
   "source": [
    "## Alternative Risk Premia Strategies\n",
    "\n",
    "Fit a few different risk premia strategies, such as:\n",
    "- Momentum\n",
    "\n",
    "_Continuation of recent price trends, i.e. assets outperforming tend to continue to outperform. Herd mentality for example._\n",
    "\n",
    "- Carry\n",
    "\n",
    "_Higher yielding assets tend to outperform lower yielding ones. Mispricings due to supply/demand imbalances for example._\n",
    "\n",
    "- Value\n",
    "\n",
    "_Undervalued assets tend to outperform overvalued assets. Tendency for asset prices to revert to a long-term fair value (mean reversion) for example._\n",
    "\n",
    "- Volatility\n",
    "\n",
    "_Compensation earned for providing protection against unexpected downside volatility. Strong growth of the derivatives market has resulted in larger and more frequent supply/demand imbalances for example. Volatility strategies seek to systematically harvest a premium from selling portfolio insurance to investors wanting to limit the impact from adverse market events. The strategies are predominantly implemented using options and traditionally emerge from the belief that implied volatility will exceed realized volatility. Similar to the payoff structure of an insurance company, volatility risk premia strategies often generate a fairly stable return most of the time, only to be exposed to larger drawdowns during sudden sell-offs. The existence of the premia can be explained by investors’ loss aversion (i.e. losses hurt more than equivalent gains) and their tendency to overestimate the occurrence of larger sell-offs._\n",
    "\n",
    "- Tail Risk\n",
    "\n",
    "_Tail risk strategies take many forms but classically involve buying out-of-the-money (OTM) put options. OTM put option has a lower strike than the current market price of the underlying asset. As most assets have a long term positive drift (i.e. prices rise), continuously buying out-of-the-money put options generally results in a performance drag stemming from premiums paid for put options never being exercised._\n",
    "\n",
    "- Multi Strategy\n",
    "\n",
    "_There is a plethora of portfolio construction methodologies that can be applied to create the multi risk\n",
    "premia strategy, ranging from simple equal-weighted baskets to more complex approaches (e.g. applying\n",
    "optimizations). The SigTech multi risk premia strategy applies an equal risk contribution methodology\n",
    "which accounts for both volatility and correlation. To limit the impact from extreme values, a minimum and\n",
    "maximum weight to each individual risk premia strategy is applied._"
   ]
  },
  {
   "cell_type": "markdown",
   "id": "a795fc95",
   "metadata": {},
   "source": [
    "### Load libraries"
   ]
  },
  {
   "cell_type": "code",
   "execution_count": 2,
   "id": "7f843fc9",
   "metadata": {},
   "outputs": [],
   "source": [
    "import numpy as np\n",
    "import pandas as pd\n",
    "from itertools import combinations\n",
    "from datetime import datetime, timedelta\n",
    "import matplotlib.pyplot as plt\n",
    "%matplotlib inline"
   ]
  },
  {
   "cell_type": "markdown",
   "id": "f2d78a2f",
   "metadata": {},
   "source": [
    "### Load sample data\n",
    "\n",
    "Sample GBP USD FX and UK Inflation data will be sourced"
   ]
  },
  {
   "cell_type": "code",
   "execution_count": 3,
   "id": "465382bd",
   "metadata": {},
   "outputs": [
    {
     "name": "stderr",
     "output_type": "stream",
     "text": [
      "/var/folders/mb/jpw7jkl14xjcwhk8xq6dzh4c0000gn/T/ipykernel_25457/600784347.py:2: UserWarning: Could not infer format, so each element will be parsed individually, falling back to `dateutil`. To ensure parsing is consistent and as-expected, please specify a format.\n",
      "  inf_data = pd.read_csv(f'..//data//UK_inflation_rates_201307_202307.csv', parse_dates=['Date']).set_index('Date')\n"
     ]
    }
   ],
   "source": [
    "fx_data = pd.read_csv(f'..//data//GBPUSD_20130819_20230818.csv', parse_dates=['Date']).set_index('Date')\n",
    "inf_data = pd.read_csv(f'..//data//UK_inflation_rates_201307_202307.csv', parse_dates=['Date']).set_index('Date')"
   ]
  },
  {
   "cell_type": "markdown",
   "id": "077fe04e",
   "metadata": {},
   "source": [
    "### Resample and clean up the data"
   ]
  },
  {
   "cell_type": "code",
   "execution_count": 4,
   "id": "24364265",
   "metadata": {},
   "outputs": [],
   "source": [
    "# Resample data to monthly (taking last value)\n",
    "fx_data_m = fx_data.resample('M').last()\n",
    "# Add one day to come to the beginning of next month\n",
    "fx_data_m.index = fx_data_m.index + timedelta(days=1)"
   ]
  },
  {
   "cell_type": "code",
   "execution_count": 5,
   "id": "4f2127f9",
   "metadata": {},
   "outputs": [],
   "source": [
    "# Join both data sets\n",
    "df = fx_data_m.join(inf_data, how='outer').ffill().dropna()"
   ]
  },
  {
   "cell_type": "code",
   "execution_count": 14,
   "id": "879c4367",
   "metadata": {},
   "outputs": [
    {
     "data": {
      "text/plain": [
       "Date\n",
       "2013-09-01    0.372120\n",
       "2013-10-01    0.388488\n",
       "2013-11-01    0.384936\n",
       "2013-12-01    0.392856\n",
       "2014-01-01    0.397440\n",
       "                ...   \n",
       "2023-05-01    0.301560\n",
       "2023-06-01    0.298632\n",
       "2023-07-01    0.304800\n",
       "2023-08-01    0.308040\n",
       "2023-09-01    0.305640\n",
       "Length: 121, dtype: float64"
      ]
     },
     "execution_count": 14,
     "metadata": {},
     "output_type": "execute_result"
    }
   ],
   "source": [
    "fx_data_m[['Close']].dot([0.24])"
   ]
  },
  {
   "cell_type": "code",
   "execution_count": 18,
   "id": "227b5cb2",
   "metadata": {},
   "outputs": [
    {
     "data": {
      "text/plain": [
       "Date\n",
       "2013-09-01    True\n",
       "2013-10-01    True\n",
       "2013-11-01    True\n",
       "2013-12-01    True\n",
       "2014-01-01    True\n",
       "              ... \n",
       "2023-05-01    True\n",
       "2023-06-01    True\n",
       "2023-07-01    True\n",
       "2023-08-01    True\n",
       "2023-09-01    True\n",
       "Length: 121, dtype: bool"
      ]
     },
     "execution_count": 18,
     "metadata": {},
     "output_type": "execute_result"
    }
   ],
   "source": [
    "fx_data_m['Close'] * 0.24 == fx_data_m[['Close']].dot([0.24])"
   ]
  },
  {
   "cell_type": "code",
   "execution_count": null,
   "id": "cea2c330",
   "metadata": {},
   "outputs": [],
   "source": []
  }
 ],
 "metadata": {
  "kernelspec": {
   "display_name": "arima",
   "language": "python",
   "name": "arima"
  },
  "language_info": {
   "codemirror_mode": {
    "name": "ipython",
    "version": 3
   },
   "file_extension": ".py",
   "mimetype": "text/x-python",
   "name": "python",
   "nbconvert_exporter": "python",
   "pygments_lexer": "ipython3",
   "version": "3.10.12"
  }
 },
 "nbformat": 4,
 "nbformat_minor": 5
}
