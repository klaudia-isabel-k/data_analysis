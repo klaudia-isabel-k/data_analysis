{
 "cells": [
  {
   "cell_type": "markdown",
   "id": "edbdcc37",
   "metadata": {},
   "source": [
    "## Alternative Risk Premia Example\n",
    "\n",
    "Fit a few different risk premia strategies, such as:\n",
    "- Mean Reversion\n",
    "- Momentum\n",
    "- Carry\n",
    "- Tail Risk\n",
    "- Value\n",
    "- Volatility\n",
    "- Multi Strategy"
   ]
  },
  {
   "cell_type": "markdown",
   "id": "a795fc95",
   "metadata": {},
   "source": [
    "### Load libraries"
   ]
  },
  {
   "cell_type": "code",
   "execution_count": 1,
   "id": "7f843fc9",
   "metadata": {},
   "outputs": [],
   "source": [
    "import numpy as np\n",
    "import pandas as pd\n",
    "from itertools import combinations\n",
    "from datetime import datetime, timedelta\n",
    "import matplotlib.pyplot as plt\n",
    "%matplotlib inline"
   ]
  },
  {
   "cell_type": "markdown",
   "id": "f2d78a2f",
   "metadata": {},
   "source": [
    "### Load sample data\n",
    "\n",
    "Sample GBP USD FX and UK Inflation data will be sourced"
   ]
  },
  {
   "cell_type": "code",
   "execution_count": 2,
   "id": "465382bd",
   "metadata": {},
   "outputs": [],
   "source": [
    "fx_data = pd.read_csv(f'..//data//GBPUSD_20130819_20230818.csv', parse_dates=['Date']).set_index('Date')\n",
    "inf_data = pd.read_csv(f'..//data//UK_inflation_rates_201307_202307.csv', parse_dates=['Date']).set_index('Date')"
   ]
  },
  {
   "cell_type": "markdown",
   "id": "077fe04e",
   "metadata": {},
   "source": [
    "### Resample and clean up the data"
   ]
  },
  {
   "cell_type": "code",
   "execution_count": 5,
   "id": "24364265",
   "metadata": {},
   "outputs": [],
   "source": [
    "# Resample data to monthly (taking last value)\n",
    "fx_data_m = fx_data.resample('M').last()\n",
    "# Add one day to come to the beginning of next month\n",
    "fx_data_m.index = fx_data_m.index + timedelta(days=1)"
   ]
  },
  {
   "cell_type": "code",
   "execution_count": 6,
   "id": "4f2127f9",
   "metadata": {},
   "outputs": [],
   "source": [
    "# Join both data sets\n",
    "df = fx_data_m.join(inf_data, how='outer').ffill().dropna()"
   ]
  },
  {
   "cell_type": "code",
   "execution_count": null,
   "id": "879c4367",
   "metadata": {},
   "outputs": [],
   "source": []
  }
 ],
 "metadata": {
  "kernelspec": {
   "display_name": "arima",
   "language": "python",
   "name": "arima"
  },
  "language_info": {
   "codemirror_mode": {
    "name": "ipython",
    "version": 3
   },
   "file_extension": ".py",
   "mimetype": "text/x-python",
   "name": "python",
   "nbconvert_exporter": "python",
   "pygments_lexer": "ipython3",
   "version": "3.10.12"
  }
 },
 "nbformat": 4,
 "nbformat_minor": 5
}
