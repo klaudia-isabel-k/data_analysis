{
 "cells": [
  {
   "cell_type": "markdown",
   "id": "b42f9001",
   "metadata": {},
   "source": [
    "## Black Scholes Model\n",
    "\n",
    "The Black-Scholes formula for calculating the price C of a European call option is given by:\n",
    "\n",
    "$C =N(d_1)S_t−N(d_2)Ke^{−r\\tau}$"
   ]
  },
  {
   "cell_type": "markdown",
   "id": "87046cce",
   "metadata": {},
   "source": [
    "$d_1=\\frac{ln(\\frac{S_t}{K})+(r+\\frac{\\sigma^2}{2})\\tau}{\\sigma\\sqrt{\\tau}}$"
   ]
  },
  {
   "cell_type": "markdown",
   "id": "216d03dd",
   "metadata": {},
   "source": [
    "$d_2=d_1-\\sigma\\sqrt{\\tau}$"
   ]
  },
  {
   "cell_type": "markdown",
   "id": "72182ba6",
   "metadata": {},
   "source": [
    "where:\n",
    "\n",
    "* $N(.)$ is the cumulative standard normal distribution function.\n",
    "* $S_t$ price of the underlying at time t\n",
    "* $K$ is the strike price\n",
    "* $T$ is maturity time\n",
    "* $t$ is current time\n",
    "* $\\tau$ is time to maturity $T-t$\n",
    "* $\\sigma$ is the volatility of the underlying\n",
    "* $r$ is the risk free rate\n",
    "\n",
    "\n",
    "Taken from: https://en.wikipedia.org/wiki/Black–Scholes_model"
   ]
  },
  {
   "cell_type": "markdown",
   "id": "5b18fe5b",
   "metadata": {},
   "source": [
    "### Delta $\\Delta$\n",
    "Measure of the rate of change in the price with respect to changes in the underlying price.\n",
    "\n",
    "First derivative of the option price with respect to the stock price:\n",
    "\n",
    "## $\\Delta = \\frac{\\partial C}{\\partial S_t} = N(d_1)$"
   ]
  },
  {
   "cell_type": "markdown",
   "id": "9d48bcd2",
   "metadata": {},
   "source": [
    "### Gamma $\\Gamma$\n",
    "Measure of the rate of change in the delta with respect to changes in the underlying price.\n",
    "\n",
    "Second derivative of the option price with respect to the stock price:\n",
    "\n",
    "## $\\Gamma = \\frac{\\partial \\Delta}{\\partial S_t} = \\frac{\\partial^2 C}{\\partial S_t^2} = \\frac{\\partial N(d1)}{\\partial S_t} = \\frac{d \\frac{ln(S_t)}{\\sigma\\sqrt{\\tau}}}{d S_t}*n(d_1)= \\frac{1}{S_t\\sigma\\sqrt{\\tau}}n(d_1)$"
   ]
  },
  {
   "cell_type": "markdown",
   "id": "75d95cba",
   "metadata": {},
   "source": [
    "### Theta $\\Theta$\n",
    "Measure of the rate of change in the price with respect to the passage of time.\n",
    "\n",
    "First derivative of the option price with respect to time:\n",
    "\n",
    "## $\\Theta = \\frac{\\partial C}{\\partial t} = -\\frac{\\partial C}{\\partial \\tau} = -\\frac{\\sigma}{2\\sqrt{\\tau}}S_t n(d_1)-rKe^{-r\\tau}N(d_2)$"
   ]
  },
  {
   "cell_type": "markdown",
   "id": "440c0df0",
   "metadata": {},
   "source": [
    "### Vega $\\nu$\n",
    "Measure of the rate of change in the price with respect to changes in volatility of the underlying.\n",
    "\n",
    "First derivative of the option price with respect to the volatility:\n",
    "\n",
    "## $\\nu = \\frac{\\partial C}{\\partial \\sigma} = \\sqrt{\\tau}S_t n(d_1)$"
   ]
  },
  {
   "cell_type": "markdown",
   "id": "9507b29e",
   "metadata": {},
   "source": [
    "### Rho $\\rho$\n",
    "Measure of the rate of change in the price with respect to changes in volatility of the risk free rate.\n",
    "\n",
    "First derivative of the option price with respect to the risk free rate:\n",
    "\n",
    "## $\\rho = \\frac{\\partial C}{\\partial r} = \\tau K e^{-r \\tau} N(d_2)$"
   ]
  }
 ],
 "metadata": {
  "kernelspec": {
   "display_name": "arima",
   "language": "python",
   "name": "arima"
  },
  "language_info": {
   "codemirror_mode": {
    "name": "ipython",
    "version": 3
   },
   "file_extension": ".py",
   "mimetype": "text/x-python",
   "name": "python",
   "nbconvert_exporter": "python",
   "pygments_lexer": "ipython3",
   "version": "3.10.12"
  }
 },
 "nbformat": 4,
 "nbformat_minor": 5
}
