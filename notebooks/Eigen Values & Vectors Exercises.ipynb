{
 "cells": [
  {
   "cell_type": "markdown",
   "id": "6ad57a36",
   "metadata": {},
   "source": [
    "### Finding Roots\n",
    "\\begin{equation}\n",
    "\\frac{-b +/- \\sqrt{b^2-4ac}}{2a}\n",
    "\\end{equation}"
   ]
  },
  {
   "cell_type": "markdown",
   "id": "768d5a41",
   "metadata": {},
   "source": [
    "\n",
    "## Eigen Values\n",
    "$ det(A−\\lambda I)=0$\n",
    "where I is the identity matrix.\n",
    "\n",
    "\\begin{equation}\n",
    "A = \\begin{bmatrix}\n",
    "a & b  \\\\\n",
    "c & d\n",
    "\\end{bmatrix}\n",
    "\\end{equation}\n",
    "\n",
    "\\begin{equation}\n",
    "(a-\\lambda)(d-\\lambda) - bc = 0\n",
    "\\end{equation}\n",
    "where $\\lambda$ are the eigen values"
   ]
  },
  {
   "cell_type": "markdown",
   "id": "124b409c",
   "metadata": {},
   "source": [
    "## Eigen Vectors\n",
    "\n",
    "\\begin{equation}\n",
    "Ax=\\lambda x\n",
    "\\end{equation}\n",
    "\n",
    "\\begin{equation}\n",
    "\\begin{bmatrix}\n",
    "a & b  \\\\\n",
    "c & d\n",
    "\\end{bmatrix}\\begin{bmatrix}\n",
    "x_1  \\\\\n",
    "x_2\n",
    "\\end{bmatrix}=\\lambda \\begin{bmatrix}\n",
    "x_1  \\\\\n",
    "x_2\n",
    "\\end{bmatrix}\n",
    "\\end{equation}"
   ]
  },
  {
   "cell_type": "markdown",
   "id": "2452b84f",
   "metadata": {},
   "source": [
    "## Exercises\n"
   ]
  },
  {
   "cell_type": "markdown",
   "id": "6987cbd9",
   "metadata": {},
   "source": [
    "__Ex 1__:\n",
    "\n",
    "Fing eigen values and vactors, given matrix:\n",
    "$\n",
    "\\begin{equation}\n",
    "A = \\begin{bmatrix}\n",
    "5 & 1  \\\\\n",
    "3 & 3\n",
    "\\end{bmatrix}\n",
    "\\end{equation}$"
   ]
  },
  {
   "cell_type": "markdown",
   "id": "d67e71aa",
   "metadata": {},
   "source": [
    "__Solution:__"
   ]
  },
  {
   "cell_type": "markdown",
   "id": "d0fc2446",
   "metadata": {},
   "source": [
    "_Part 1: Calculating Eigen Values_"
   ]
  },
  {
   "cell_type": "markdown",
   "id": "92d81c26",
   "metadata": {},
   "source": [
    "\\begin{equation}\n",
    "\\lambda I = \\lambda \\begin{bmatrix}\n",
    "1 & 0  \\\\\n",
    "0 & 1\n",
    "\\end{bmatrix} =  \\begin{bmatrix}\n",
    "\\lambda & 0  \\\\\n",
    "0 & \\lambda\n",
    "\\end{bmatrix}\n",
    "\\end{equation}"
   ]
  },
  {
   "cell_type": "markdown",
   "id": "890ede30",
   "metadata": {},
   "source": [
    "\\begin{equation}\n",
    "A−\\lambda I =  \\begin{bmatrix}\n",
    "5-\\lambda & 1  \\\\\n",
    "3 & 3-\\lambda\n",
    "\\end{bmatrix}\n",
    "\\end{equation}"
   ]
  },
  {
   "cell_type": "markdown",
   "id": "29fffd9a",
   "metadata": {},
   "source": [
    "\\begin{equation}\n",
    "det(A−\\lambda I) = (5-\\lambda) (3-\\lambda) - (1*3) = 15 - 5\\lambda - 3\\lambda + \\lambda^2 - 3 = \\lambda^2 -8\\lambda + 12\n",
    "\\end{equation}"
   ]
  },
  {
   "cell_type": "markdown",
   "id": "904c1ced",
   "metadata": {},
   "source": [
    "_Find Roots_\n",
    "\n",
    "* $a = 1$\n",
    "* $b = -8$\n",
    "* $c = 12$\n",
    "\n",
    "\\begin{equation}\n",
    "\\frac{-b+/-\\sqrt{b^2-4ac}}{2a} = \\frac{8+/-\\sqrt{64-48}}{2} = \\frac{8+/-\\sqrt{16}}{2}= \\frac{8+/-4}{2}= 4+/-2 = (6,2)\n",
    "\\end{equation}"
   ]
  },
  {
   "cell_type": "markdown",
   "id": "7947148e",
   "metadata": {},
   "source": [
    "Hence the eigen values are: 6 and 2."
   ]
  },
  {
   "cell_type": "markdown",
   "id": "307fdcc0",
   "metadata": {},
   "source": [
    "_Part 2: Calculating Eigen Vectors_"
   ]
  },
  {
   "cell_type": "markdown",
   "id": "c4fec034",
   "metadata": {},
   "source": [
    "\\begin{equation}\n",
    "   (A− \\lambda I)x=0\n",
    "\\end{equation}"
   ]
  },
  {
   "cell_type": "markdown",
   "id": "dfcea194",
   "metadata": {},
   "source": [
    "For $\\lambda$ equals:\n",
    "* 6\n",
    "\n",
    "\\begin{equation}\n",
    " \\begin{bmatrix}\n",
    "5-6 & 1  \\\\\n",
    "3 & 3-6\n",
    "\\end{bmatrix}\n",
    "\\begin{bmatrix}\n",
    "x_1  \\\\\n",
    "x_2\n",
    "\\end{bmatrix}=0\n",
    "\\end{equation}\n",
    "\n",
    "\\begin{equation}\n",
    " \\begin{bmatrix}\n",
    "-1 & 1  \\\\\n",
    "3 & -3\n",
    "\\end{bmatrix}\n",
    "\\begin{bmatrix}\n",
    "x_1  \\\\\n",
    "x_2\n",
    "\\end{bmatrix}=0\n",
    "\\end{equation}"
   ]
  },
  {
   "cell_type": "markdown",
   "id": "31c531ae",
   "metadata": {},
   "source": [
    "\\begin{equation}\n",
    "-x_1 + x_2 = 0 \\rightarrow x_1=x_2\n",
    "\\end{equation}\n",
    "\n",
    "\\begin{equation}\n",
    "3x_1 - 3x_2 = 0 \\rightarrow x_1=x_2\n",
    "\\end{equation}"
   ]
  },
  {
   "cell_type": "markdown",
   "id": "9ffd35ee",
   "metadata": {},
   "source": [
    "Eigen vectors are any multiples of [1, 1]."
   ]
  },
  {
   "cell_type": "markdown",
   "id": "b0300f07",
   "metadata": {},
   "source": [
    "* 2\n",
    "\n",
    "\\begin{equation}\n",
    " \\begin{bmatrix}\n",
    "5-2 & 1  \\\\\n",
    "3 & 3-2\n",
    "\\end{bmatrix}\n",
    "\\begin{bmatrix}\n",
    "x_1  \\\\\n",
    "x_2\n",
    "\\end{bmatrix}=0\n",
    "\\end{equation}\n",
    "\n",
    "\\begin{equation}\n",
    " \\begin{bmatrix}\n",
    "3 & 1  \\\\\n",
    "3 & 1\n",
    "\\end{bmatrix}\n",
    "\\begin{bmatrix}\n",
    "x_1  \\\\\n",
    "x_2\n",
    "\\end{bmatrix}=0\n",
    "\\end{equation}"
   ]
  },
  {
   "cell_type": "markdown",
   "id": "29e46ecd",
   "metadata": {},
   "source": [
    "\\begin{equation}\n",
    "3x_1 + x_2 = 0 \\rightarrow x_1=x_2\n",
    "\\end{equation}"
   ]
  },
  {
   "cell_type": "markdown",
   "id": "20ca5546",
   "metadata": {},
   "source": [
    "Eigen vectors are any multiples of [1, 1]."
   ]
  }
 ],
 "metadata": {
  "kernelspec": {
   "display_name": "Python 3 (ipykernel)",
   "language": "python",
   "name": "python3"
  },
  "language_info": {
   "codemirror_mode": {
    "name": "ipython",
    "version": 3
   },
   "file_extension": ".py",
   "mimetype": "text/x-python",
   "name": "python",
   "nbconvert_exporter": "python",
   "pygments_lexer": "ipython3",
   "version": "3.10.12"
  }
 },
 "nbformat": 4,
 "nbformat_minor": 5
}
