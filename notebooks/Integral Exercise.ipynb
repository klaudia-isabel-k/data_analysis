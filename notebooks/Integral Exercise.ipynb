{
 "cells": [
  {
   "cell_type": "markdown",
   "id": "c329ae81",
   "metadata": {},
   "source": [
    "## Simple Examples"
   ]
  },
  {
   "cell_type": "markdown",
   "id": "f6167b12",
   "metadata": {},
   "source": [
    "__Ex 1__:\n",
    "\n",
    "$\\int \\sqrt{x} dx$"
   ]
  },
  {
   "cell_type": "markdown",
   "id": "d7b2e1d8",
   "metadata": {},
   "source": [
    "__Solution:__\n",
    "\n",
    "$\\int x^{1/2} dx = \\frac{2}{3} x^{\\frac{3}{2}} + C = \\frac{2}{3} x\\sqrt{x} + C$"
   ]
  },
  {
   "cell_type": "markdown",
   "id": "af4a7b2f",
   "metadata": {},
   "source": [
    "__Ex 2__: \n",
    "\n",
    "$\\int 3e^{x} dx$"
   ]
  },
  {
   "cell_type": "markdown",
   "id": "48494c75",
   "metadata": {},
   "source": [
    "__Solution:__\n",
    "\n",
    "$3 \\int e^{x} dx = 3 \\frac{e^{x}}{ln(e)} + C = 3e^{x} + C$"
   ]
  },
  {
   "cell_type": "markdown",
   "id": "6eae0283",
   "metadata": {},
   "source": [
    "__Ex 3__:\n",
    "\n",
    "$\\int (3x^{2} −\\sqrt{5x} + 2) dx$"
   ]
  },
  {
   "cell_type": "markdown",
   "id": "108b6747",
   "metadata": {},
   "source": [
    "__Solution:__\n",
    "\n",
    "$3\\int x^{2}dx −\\sqrt{5}\\int\\sqrt{x}dx + 2 \\int 1 dx = $"
   ]
  },
  {
   "cell_type": "markdown",
   "id": "f68e1a34",
   "metadata": {},
   "source": [
    "$= 3 * \\frac{x^{3}}{3} −\\sqrt{5} * \\frac{2}{3} x^{\\frac{3}{2}} + 2 * x + C =$"
   ]
  },
  {
   "cell_type": "markdown",
   "id": "ba26b48d",
   "metadata": {},
   "source": [
    "$=x^{3} − \\frac{2\\sqrt{5}}{3} x^{\\frac{3}{2}} + 2x + C$"
   ]
  },
  {
   "cell_type": "markdown",
   "id": "3b17cbbb",
   "metadata": {},
   "source": [
    "__Ex 4__:\n",
    "\n",
    "$\\int \\frac{1}{2x} - \\frac{2}{x^2} + \\frac{3}{\\sqrt{x}}dx$"
   ]
  },
  {
   "cell_type": "markdown",
   "id": "fa8414f6",
   "metadata": {},
   "source": [
    "__Solution:__\n",
    "\n",
    "$\\frac{1}{2}\\int x^{-1} dx - 2 \\int x^{-2} dx + 3\\int x^{-\\frac{1}{2}}dx = $"
   ]
  },
  {
   "cell_type": "markdown",
   "id": "d5bd58d7",
   "metadata": {},
   "source": [
    "$= \\frac{1}{2} ln(|x|) + 2 x^{-1} + 3 * 2 x^{\\frac{1}{2}}  + C = $"
   ]
  },
  {
   "cell_type": "markdown",
   "id": "ac9d3b18",
   "metadata": {},
   "source": [
    "$= \\frac{ln(|x|)}{2} + \\frac{2}{x} + 6 \\sqrt{x} + C$"
   ]
  },
  {
   "cell_type": "markdown",
   "id": "6b2da55d",
   "metadata": {},
   "source": [
    "__Ex 5__:\n",
    "\n",
    "$\\int (2e^{x} + \\frac{6}{x} + ln(2)) dx$"
   ]
  },
  {
   "cell_type": "markdown",
   "id": "4323061d",
   "metadata": {},
   "source": [
    "__Solution:__\n",
    "\n",
    "$2\\int e^x dx + 6\\int \\frac{1}{x} dx + ln(2) \\int 1 dx = $"
   ]
  },
  {
   "cell_type": "markdown",
   "id": "dc95b767",
   "metadata": {},
   "source": [
    "$= 2e^x  + 6 ln(|x|) + ln(2) x + C $"
   ]
  },
  {
   "cell_type": "markdown",
   "id": "98e64d14",
   "metadata": {},
   "source": [
    "__Ex 6__:\n",
    "\n",
    "$\\int \\frac{x^2 + 3x -2}{\\sqrt{x}}dx$"
   ]
  },
  {
   "cell_type": "markdown",
   "id": "871c42e6",
   "metadata": {},
   "source": [
    "__Solution:__\n",
    "\n",
    "$\\int x^{\\frac{3}{2}}dx + 3\\int x^{\\frac{1}{2}}dx - 2\\int x^{-\\frac{1}{2}}dx = $"
   ]
  },
  {
   "cell_type": "markdown",
   "id": "461ee0b6",
   "metadata": {},
   "source": [
    "$\\frac{2}{5} x^{\\frac{5}{2}} + 3 \\frac{2}{3}x^{\\frac{3}{2}}dx - 2 * 2 x^{\\frac{1}{2}} + C = $"
   ]
  },
  {
   "cell_type": "markdown",
   "id": "3671df38",
   "metadata": {},
   "source": [
    "$\\frac{2}{5} x^{2} \\sqrt{x} + 2 x \\sqrt{x} - 4 \\sqrt{x} + C $"
   ]
  },
  {
   "cell_type": "markdown",
   "id": "62f57d97",
   "metadata": {},
   "source": [
    "__Ex 7__:\n",
    "\n",
    "$\\int (x^3 -2x^2)(\\frac{1}{x} - 5) dx$"
   ]
  },
  {
   "cell_type": "markdown",
   "id": "b5a4f7d7",
   "metadata": {},
   "source": [
    "__Solution:__\n",
    "\n",
    "$\\int (x^2 - 5 x^3 - 2x + 10x^2) dx$"
   ]
  },
  {
   "cell_type": "markdown",
   "id": "8509e151",
   "metadata": {},
   "source": [
    "$\\int x^2 dx - 5 \\int x^3 dx - 2 \\int x dx +  10 \\int x^2 dx = $"
   ]
  },
  {
   "cell_type": "markdown",
   "id": "9c5455bb",
   "metadata": {},
   "source": [
    "$ = \\frac{1}{3} x^3 - 5 \\frac{1}{4} x^4 - 2 \\frac{1}{2} x^2 +  10 \\frac{1}{3} x^3 + C = $"
   ]
  },
  {
   "cell_type": "markdown",
   "id": "0d3f801f",
   "metadata": {},
   "source": [
    "$ = \\frac{1}{3} x^3 - \\frac{5}{4} x^4 - x^2 + \\frac{10}{3} x^3 + C = $"
   ]
  },
  {
   "cell_type": "markdown",
   "id": "b61ce385",
   "metadata": {},
   "source": [
    "$ = - \\frac{5}{4} x^4 + \\frac{11}{3} x^3 - x^2 + C$"
   ]
  },
  {
   "cell_type": "markdown",
   "id": "c1e12358",
   "metadata": {},
   "source": [
    "## Examples Requiring Subtitution"
   ]
  },
  {
   "cell_type": "markdown",
   "id": "a88ca30c",
   "metadata": {},
   "source": [
    "#### Integration by substitution\n",
    "\n",
    "Let the following integral:\n",
    "$\\int ax dx $\n",
    "\n",
    "Substitute ax with u by the following method:\n",
    "\n",
    "* 1. Set: $u = ax$\n",
    "* 2. Calc dx: \n",
    " $\\frac{du}{dx} = a \\rightarrow dx = \\frac{du}{a}$"
   ]
  },
  {
   "cell_type": "markdown",
   "id": "998a0506",
   "metadata": {},
   "source": [
    "__Ex 8__:\n",
    "\n",
    "$\\int (2x + 6)^{5}dx$"
   ]
  },
  {
   "cell_type": "markdown",
   "id": "22be2230",
   "metadata": {},
   "source": [
    "__Solution:__\n",
    "\n",
    "$u = 2x + 6$"
   ]
  },
  {
   "cell_type": "markdown",
   "id": "d8dd5453",
   "metadata": {},
   "source": [
    "$\\frac{du}{dx} = 2 \\rightarrow dx = \\frac{1}{2}du$"
   ]
  },
  {
   "cell_type": "markdown",
   "id": "8f7878a2",
   "metadata": {},
   "source": [
    "$\\int \\frac{1}{2}u^{5}du = \\frac{1}{2}\\int u^{5}du = \\frac{1}{2}\\frac{1}{6} u^{6} + C = $"
   ]
  },
  {
   "cell_type": "markdown",
   "id": "20b7f674",
   "metadata": {},
   "source": [
    "_Revert Substitution_"
   ]
  },
  {
   "cell_type": "markdown",
   "id": "21d14976",
   "metadata": {},
   "source": [
    "$\\frac{1}{12}(2x + 6)^{6} + C$"
   ]
  },
  {
   "cell_type": "markdown",
   "id": "dc4ee47e",
   "metadata": {},
   "source": [
    "__Ex 9__:\n",
    "\n",
    "$\\int [(x-1)^{5} + 3(x-1)^{2} + 5] dx$"
   ]
  },
  {
   "cell_type": "markdown",
   "id": "eec4a2fe",
   "metadata": {},
   "source": [
    "__Solution:__\n",
    "\n",
    "$u = x - 1$"
   ]
  },
  {
   "cell_type": "markdown",
   "id": "13710217",
   "metadata": {},
   "source": [
    "$\\frac{du}{dx} = 1 \\rightarrow dx = du$"
   ]
  },
  {
   "cell_type": "markdown",
   "id": "f5b4f2fa",
   "metadata": {},
   "source": [
    "$\\int [u^{5} + 3u^{2} + 5] du = $"
   ]
  },
  {
   "cell_type": "markdown",
   "id": "3d800291",
   "metadata": {},
   "source": [
    "$\\int u^{5} du + 3\\int u^{2} du + 5\\int 1 du = $"
   ]
  },
  {
   "cell_type": "markdown",
   "id": "a5a239f3",
   "metadata": {},
   "source": [
    "$\\frac{1}{6} u^{6} + 3\\frac{1}{3} u^{3} + 5u + C = \\frac{1}{6} u^{6} + u^{3} + 5u + C = $"
   ]
  },
  {
   "cell_type": "markdown",
   "id": "1635407c",
   "metadata": {},
   "source": [
    "_Revert Substitution_"
   ]
  },
  {
   "cell_type": "markdown",
   "id": "cffea58c",
   "metadata": {},
   "source": [
    "$ \\frac{1}{6} (x-1)^{6} + (x-1)^{3} + 5(x-1) + C = $"
   ]
  },
  {
   "cell_type": "markdown",
   "id": "7e1b11a0",
   "metadata": {},
   "source": [
    "$ \\frac{1}{6} (x-1)^{6} + (x-1)^{3} + 5x + C$"
   ]
  },
  {
   "cell_type": "markdown",
   "id": "1aeee726",
   "metadata": {},
   "source": [
    "__Ex 10__:\n",
    "\n",
    "$\\int x^{5}e^{1-x^6}dx$"
   ]
  },
  {
   "cell_type": "markdown",
   "id": "57188c71",
   "metadata": {},
   "source": [
    "__Solution:__\n",
    "\n",
    "$u = 1 - x^{6}$"
   ]
  },
  {
   "cell_type": "markdown",
   "id": "13a857e9",
   "metadata": {},
   "source": [
    "$\\frac{du}{dx} = -6x^{5} \\rightarrow \\frac{du}{-6x^{5}} = dx$"
   ]
  },
  {
   "cell_type": "markdown",
   "id": "f9bd9d00",
   "metadata": {},
   "source": [
    "$\\int x^{5}e^{u}\\frac{1}{-6x^5}du = $"
   ]
  },
  {
   "cell_type": "markdown",
   "id": "97bbf95d",
   "metadata": {},
   "source": [
    "$\\int -e^{u}\\frac{1}{6}du = -\\frac{1}{6}\\int e^{u}du = -\\frac{1}{6} e^{u} + C = $"
   ]
  },
  {
   "cell_type": "markdown",
   "id": "c266e12a",
   "metadata": {},
   "source": [
    "_Revert Substitution_"
   ]
  },
  {
   "cell_type": "markdown",
   "id": "597ffb19",
   "metadata": {},
   "source": [
    "$ -\\frac{1}{6} e^{1-x^{6}} + C$"
   ]
  },
  {
   "cell_type": "markdown",
   "id": "d048b762",
   "metadata": {},
   "source": [
    "__Ex 11__:\n",
    "\n",
    "$\\int \\frac{10x^3-5x}{\\sqrt{x^4-x^2+6}} dx$"
   ]
  },
  {
   "cell_type": "markdown",
   "id": "5a80333e",
   "metadata": {},
   "source": [
    "__Solution:__\n",
    "\n",
    "$u = x^4 - x^2 + 6$"
   ]
  },
  {
   "cell_type": "markdown",
   "id": "7432a1dc",
   "metadata": {},
   "source": [
    "$\\frac{du}{dx} = 4x^3 - 2x \\rightarrow \\frac{du}{2x(2x^2-1)}=dx$"
   ]
  },
  {
   "cell_type": "markdown",
   "id": "4a0bf33f",
   "metadata": {},
   "source": [
    "$\\int \\frac{10x^3-5x}{\\sqrt{u}} \\frac{1}{2x(2x^2-1)}du = \\int \\frac{5x(2x^2-1)}{\\sqrt{u}} \\frac{1}{2x(2x^2-1)}du = $"
   ]
  },
  {
   "cell_type": "markdown",
   "id": "78841472",
   "metadata": {},
   "source": [
    "$\\int \\frac{5}{\\sqrt{u}} \\frac{1}{2}du = \\frac{5}{2} \\int u^{-1/2} du = \\frac{5}{2} 2 u^{1/2} + C = 5 u^{1/2} + C = $"
   ]
  },
  {
   "cell_type": "markdown",
   "id": "d9b05afa",
   "metadata": {},
   "source": [
    "_Revert Substitution_"
   ]
  },
  {
   "cell_type": "markdown",
   "id": "48d6e5a1",
   "metadata": {},
   "source": [
    "$5 \\sqrt{x^4-x^2 + 6} + C $"
   ]
  },
  {
   "cell_type": "markdown",
   "id": "32306464",
   "metadata": {},
   "source": [
    "__Ex 12__:\n",
    "\n",
    "$\\int \\frac{1}{xlnx}dx$"
   ]
  },
  {
   "cell_type": "markdown",
   "id": "c9b1ec3a",
   "metadata": {},
   "source": [
    "__Solution:__\n",
    "\n",
    "$u = lnx$"
   ]
  },
  {
   "cell_type": "markdown",
   "id": "2c32b0d1",
   "metadata": {},
   "source": [
    "$\\frac{du}{dx} = \\frac{1}{x} \\rightarrow dx=x du$"
   ]
  },
  {
   "cell_type": "markdown",
   "id": "29244623",
   "metadata": {},
   "source": [
    "$\\int \\frac{1}{xu}xdu = \\int \\frac{1}{u}du = ln(|u|) + C = $"
   ]
  },
  {
   "cell_type": "markdown",
   "id": "d54771eb",
   "metadata": {},
   "source": [
    "_Revert Substitution_"
   ]
  },
  {
   "cell_type": "markdown",
   "id": "3d1ae532",
   "metadata": {},
   "source": [
    "$ln(|lnx|) + C$"
   ]
  },
  {
   "cell_type": "markdown",
   "id": "0ddde769",
   "metadata": {},
   "source": [
    "__Ex 13__:\n",
    "\n",
    "$\\int \\frac{lnx^2}{x}dx$"
   ]
  },
  {
   "cell_type": "markdown",
   "id": "b789240f",
   "metadata": {},
   "source": [
    "__Solution:__\n",
    "\n",
    "$\\int \\frac{2lnx}{x}dx$"
   ]
  },
  {
   "cell_type": "markdown",
   "id": "f2bb1106",
   "metadata": {},
   "source": [
    "$u = lnx$"
   ]
  },
  {
   "cell_type": "markdown",
   "id": "d5ef334b",
   "metadata": {},
   "source": [
    "$\\frac{du}{dx} = \\frac{1}{x} \\rightarrow dx = x du$"
   ]
  },
  {
   "cell_type": "markdown",
   "id": "75a6a446",
   "metadata": {},
   "source": [
    "$\\int \\frac{2u}{x}xdu = 2\\int udu= 2\\frac{1}{2} u^2 + C = $"
   ]
  },
  {
   "cell_type": "markdown",
   "id": "d7719f8b",
   "metadata": {},
   "source": [
    "_Revert Substitution_"
   ]
  },
  {
   "cell_type": "markdown",
   "id": "1e4f0349",
   "metadata": {},
   "source": [
    "$(lnx)^{2} + C$"
   ]
  },
  {
   "cell_type": "markdown",
   "id": "e5ae8212",
   "metadata": {},
   "source": [
    "__Ex 14__:\n",
    "\n",
    "$\\int (2x+3)\\sqrt{2x-1}dx$"
   ]
  },
  {
   "cell_type": "markdown",
   "id": "ce17f148",
   "metadata": {},
   "source": [
    "__Solution:__\n",
    "\n",
    "$u = 2x - 1$"
   ]
  },
  {
   "cell_type": "markdown",
   "id": "13892c2f",
   "metadata": {},
   "source": [
    "$2x + 3 = u + 4$"
   ]
  },
  {
   "cell_type": "markdown",
   "id": "cc38829e",
   "metadata": {},
   "source": [
    "$\\frac{du}{dx} = 2 \\rightarrow \\frac{1}{2}du = dx$"
   ]
  },
  {
   "cell_type": "markdown",
   "id": "f077d9ad",
   "metadata": {},
   "source": [
    "$\\int (u+4)\\sqrt{u}\\frac{1}{2}du = \\frac{1}{2}\\int (u+4)\\sqrt{u}du$"
   ]
  },
  {
   "cell_type": "markdown",
   "id": "9959dfea",
   "metadata": {},
   "source": [
    "$ \\frac{1}{2}\\int(u^{3/2}+4u^{1/2})du = \\frac{1}{2}\\int u^{3/2}du + 2\\int u^{1/2}du =$"
   ]
  },
  {
   "cell_type": "markdown",
   "id": "5f00be7c",
   "metadata": {},
   "source": [
    "$\\frac{1}{2}\\frac{2}{5} u^{5/2} + 2\\frac{2}{3} u^{3/2} + C = \\frac{1}{5} u^{5/2} + \\frac{4}{3} u^{3/2} + C$"
   ]
  },
  {
   "cell_type": "markdown",
   "id": "33ff58f4",
   "metadata": {},
   "source": [
    "_Revert Substitution_"
   ]
  },
  {
   "cell_type": "markdown",
   "id": "49262d16",
   "metadata": {},
   "source": [
    "$\\frac{1}{5}(2x - 1)^2\\sqrt{2x - 1}+\\frac{4}{3}(2x - 1)\\sqrt{2x - 1} + C =$"
   ]
  },
  {
   "cell_type": "markdown",
   "id": "307cbaea",
   "metadata": {},
   "source": [
    "$((2x - 1)\\sqrt{2x - 1})(\\frac{1}{5}(2x - 1)+\\frac{4}{3}) + C =$"
   ]
  },
  {
   "cell_type": "markdown",
   "id": "51d2595b",
   "metadata": {},
   "source": [
    "$((2x - 1)\\sqrt{2x - 1})(\\frac{2}{5}x - \\frac{1}{5}+\\frac{4}{3}) + C =$"
   ]
  },
  {
   "cell_type": "markdown",
   "id": "786daebc",
   "metadata": {},
   "source": [
    "$((2x - 1)\\sqrt{2x - 1})(\\frac{2}{5}x - \\frac{3}{15}+\\frac{20}{15}) + C =$"
   ]
  },
  {
   "cell_type": "markdown",
   "id": "5d9f317a",
   "metadata": {},
   "source": [
    "$((2x - 1)\\sqrt{2x - 1})(\\frac{2}{5}x + \\frac{17}{15}) + C $"
   ]
  },
  {
   "cell_type": "markdown",
   "id": "609171a0",
   "metadata": {},
   "source": [
    "## Examples Requiring Integration By Parts"
   ]
  },
  {
   "cell_type": "markdown",
   "id": "04cfe48e",
   "metadata": {},
   "source": [
    "#### Integration by Parts\n",
    "\n",
    "$\\int f g' = fg - \\int f' g$"
   ]
  },
  {
   "cell_type": "markdown",
   "id": "8f403f53",
   "metadata": {},
   "source": [
    "__Ex 15__:\n",
    "\n",
    "$\\int x e^{0.1x}dx$"
   ]
  },
  {
   "cell_type": "markdown",
   "id": "7bbc929a",
   "metadata": {},
   "source": [
    "__Solution:__\n",
    "\n",
    "* $f=x$\n",
    "* $f'=1$\n",
    "* $g=\\int e^{0.1x} dx -> \\int e^{u} 10 du = 10 e^u -> 10 e^{0.1x}$\n",
    "* $g'=e^{0.1x}$"
   ]
  },
  {
   "cell_type": "markdown",
   "id": "4572bbc0",
   "metadata": {},
   "source": [
    "$\\int x e^{0.1x} dx = 10xe^{0.1x} - \\int 10e^{0.1x} dx = $"
   ]
  },
  {
   "cell_type": "markdown",
   "id": "b245aeba",
   "metadata": {},
   "source": [
    "$10xe^{0.1x} - 10 * 10 e^{0.1x} + C = $"
   ]
  },
  {
   "cell_type": "markdown",
   "id": "3dc2f51d",
   "metadata": {},
   "source": [
    "$10(x - 10) e^{0.1x} + C $"
   ]
  },
  {
   "cell_type": "markdown",
   "id": "9a966c59",
   "metadata": {},
   "source": [
    "__Ex 16__:\n",
    "\n",
    "$\\int (3-2x)e^{-x} dx$"
   ]
  },
  {
   "cell_type": "markdown",
   "id": "0badd1a0",
   "metadata": {},
   "source": [
    "__Solution:__\n",
    "\n",
    "* $f=3-2x$\n",
    "* $f'=-2$\n",
    "* $g=-e^{-x}$\n",
    "* $g'=e^{-x}$"
   ]
  },
  {
   "cell_type": "markdown",
   "id": "c63dfb87",
   "metadata": {},
   "source": [
    "$\\int (3-2x)e^{-x} dx = -e^{-x}(3-2x) - \\int -e^{-x} * (-2)dx = $"
   ]
  },
  {
   "cell_type": "markdown",
   "id": "eb8e9227",
   "metadata": {},
   "source": [
    "$ -3e^{-x}+ 2xe^{-x} - 2 \\int e^{-x} dx = $"
   ]
  },
  {
   "cell_type": "markdown",
   "id": "a3f5a9cc",
   "metadata": {},
   "source": [
    "$ -3e^{-x}+ 2xe^{-x} + 2 e^{-x} + C = $"
   ]
  },
  {
   "cell_type": "markdown",
   "id": "ace17f99",
   "metadata": {},
   "source": [
    "$ -e^{-x}+ 2xe^{-x}+ C = $"
   ]
  },
  {
   "cell_type": "markdown",
   "id": "ee8e97cb",
   "metadata": {},
   "source": [
    "$ e^{-x}(2x-1) + C $"
   ]
  },
  {
   "cell_type": "markdown",
   "id": "248d0546",
   "metadata": {},
   "source": [
    "__Ex 17__:\n",
    "\n",
    "$\\int x lnx^{2} dx$"
   ]
  },
  {
   "cell_type": "markdown",
   "id": "b7719058",
   "metadata": {},
   "source": [
    "__Solution:__\n",
    "\n",
    "$\\int 2x ln(x) dx$\n",
    "\n",
    "* $f=ln(x)$\n",
    "* $f'=\\frac{1}{x}$\n",
    "* $g=x^{2}$\n",
    "* $g'=2x$"
   ]
  },
  {
   "cell_type": "markdown",
   "id": "d873116d",
   "metadata": {},
   "source": [
    "$\\int 2x ln(x) dx = ln(x)x^{2} - \\int x^2 \\frac{1}{x}dx = $"
   ]
  },
  {
   "cell_type": "markdown",
   "id": "27c0fdfa",
   "metadata": {},
   "source": [
    "$ln(x)x^{2} - \\frac{1}{2}x^2 + C = x^{2}(ln(x)-\\frac{1}{2}) + C$"
   ]
  },
  {
   "cell_type": "markdown",
   "id": "62f26532",
   "metadata": {},
   "source": [
    "__Ex 18__:\n",
    "\n",
    "$\\int x \\sqrt{1-x} dx$"
   ]
  },
  {
   "cell_type": "markdown",
   "id": "2780decf",
   "metadata": {},
   "source": [
    "__Solution:__\n",
    "\n",
    "* $f =x$\n",
    "* $f'= 1$\n",
    "* $g = \\int \\sqrt{1-x} dx \\rightarrow u = 1 - x \\rightarrow \\frac{du}{dx} = -1 \\rightarrow dx = -du$\n",
    "\n",
    "$= -\\int u^{1/2} du = - \\frac{2}{3} u^{3/2} = - \\frac{2}{3} (1-x)^{3/2} $\n",
    "\n",
    "* $g'=\\sqrt{1-x}$"
   ]
  },
  {
   "cell_type": "markdown",
   "id": "09f21041",
   "metadata": {},
   "source": [
    "$\\int x \\sqrt{1-x} dx = - \\frac{2x}{3} (1-x)^{3/2} + \\int \\frac{2}{3} (1-x)^{3/2} dx= $"
   ]
  },
  {
   "cell_type": "markdown",
   "id": "881abcd7",
   "metadata": {},
   "source": [
    "$ -\\frac{2}{3} x(1-x)\\sqrt{1-x} + \\frac{2}{3} \\int (1-x)^{3/2} dx= $"
   ]
  },
  {
   "cell_type": "markdown",
   "id": "f4c9c199",
   "metadata": {},
   "source": [
    "$u = 1 - x \\rightarrow  \\frac{du}{dx} = - 1 \\rightarrow dx = -du$"
   ]
  },
  {
   "cell_type": "markdown",
   "id": "cb520c25",
   "metadata": {},
   "source": [
    "$ -\\frac{2}{3} x(1-x)\\sqrt{1-x} - \\frac{2}{3} \\int u^{3/2} du= $"
   ]
  },
  {
   "cell_type": "markdown",
   "id": "6aa99d81",
   "metadata": {},
   "source": [
    "$ -\\frac{2}{3} x(1-x)\\sqrt{1-x} - \\frac{2}{3} \\frac{2}{5} u^{5/2} = $"
   ]
  },
  {
   "cell_type": "markdown",
   "id": "6e2044ea",
   "metadata": {},
   "source": [
    "$ -\\frac{2}{3} x(1-x)\\sqrt{1-x} - \\frac{4}{15} (1-x)^{2}\\sqrt{1-x} = $"
   ]
  },
  {
   "cell_type": "markdown",
   "id": "16a79332",
   "metadata": {},
   "source": [
    "$-(1-x)\\sqrt{1-x}(\\frac{2}{3}x+\\frac{4}{15}(1-x))$"
   ]
  },
  {
   "cell_type": "markdown",
   "id": "3ae90b98",
   "metadata": {},
   "source": [
    "__Ex 19__:\n",
    "\n",
    "$\\int (x+1)(x+2)^{6}dx$"
   ]
  },
  {
   "cell_type": "markdown",
   "id": "e6ae2b0f",
   "metadata": {},
   "source": [
    "__Solution:__\n",
    "\n",
    "* $f= x + 1$\n",
    "* $f'= 1$\n",
    "* $g=\\int (x+2)^6 dx \\rightarrow u = x + 2 \\rightarrow \\frac{du}{dx} = 1 \\rightarrow du = dx$\n",
    "\n",
    "$\\int u^6 du = \\frac{1}{7} u^{7} = \\frac{1}{7} (x+2)^{7}$\n",
    "* $g'=(x+2)^6$"
   ]
  },
  {
   "cell_type": "markdown",
   "id": "323cf32c",
   "metadata": {},
   "source": [
    "$\\int (x+1)(x+2)^{6}dx = \\frac{1}{7}(x+1)(x+2)^7 - \\int \\frac{1}{7}(x+2)^7 dx = $"
   ]
  },
  {
   "cell_type": "markdown",
   "id": "e2d982f8",
   "metadata": {},
   "source": [
    "$ \\frac{1}{7}(x+1)(x+2)^7 - \\frac{1}{7} \\int u^7 du =$"
   ]
  },
  {
   "cell_type": "markdown",
   "id": "fd1a4429",
   "metadata": {},
   "source": [
    "$ \\frac{1}{7}(x+1)(x+2)^7 - \\frac{1}{7} \\frac{1}{8} u^8 + C =$"
   ]
  },
  {
   "cell_type": "markdown",
   "id": "510ef92f",
   "metadata": {},
   "source": [
    "$ \\frac{1}{7}(x+1)(x+2)^7 - \\frac{1}{7} \\frac{1}{8} (x+2)^8 + C =$"
   ]
  },
  {
   "cell_type": "markdown",
   "id": "c4fb726b",
   "metadata": {},
   "source": [
    "$ \\frac{1}{7}(x+2)^7((x+1)-\\frac{1}{8} (x+2)) + C =$"
   ]
  },
  {
   "cell_type": "markdown",
   "id": "bb72d1e0",
   "metadata": {},
   "source": [
    "$ \\frac{1}{7}(x+2)^7(x+1-\\frac{1}{8}x-\\frac{1}{4}) + C =$"
   ]
  },
  {
   "cell_type": "markdown",
   "id": "24bf5b67",
   "metadata": {},
   "source": [
    "$ \\frac{1}{7}(x+2)^7(\\frac{7}{8}x+\\frac{3}{4}) + C =$"
   ]
  },
  {
   "cell_type": "markdown",
   "id": "c397aa2e",
   "metadata": {},
   "source": [
    "$ \\frac{1}{56}(x+2)^7(7x+6) + C$"
   ]
  },
  {
   "cell_type": "markdown",
   "id": "8ca67182",
   "metadata": {},
   "source": [
    "__Ex 20__:\n",
    "\n",
    "$\\int x^3 e^{2x}dx$"
   ]
  },
  {
   "cell_type": "markdown",
   "id": "4d9979ca",
   "metadata": {},
   "source": [
    "__Solution:__\n",
    "\n",
    "* $f=\\frac{1}{2}e^{2x}$\n",
    "* $f'=e^{2x}$\n",
    "* $g=x^3$\n",
    "* $g'=3x^2$"
   ]
  },
  {
   "cell_type": "markdown",
   "id": "b8a6758a",
   "metadata": {},
   "source": [
    "$\\int x^3 e^{2x}dx = \\frac{1}{2}e^{2x}x^{3} - \\int 3x^2 \\frac{1}{2}e^{2x} dx = $"
   ]
  },
  {
   "cell_type": "markdown",
   "id": "b0cfd4ff",
   "metadata": {},
   "source": [
    "$\\frac{1}{2}e^{2x}x^{3} - \\frac{3}{2} \\int x^2 e^{2x} dx = \\frac{1}{2}e^{2x}x^{3} - \\frac{3}{2}A $"
   ]
  },
  {
   "cell_type": "markdown",
   "id": "6f4f17a3",
   "metadata": {},
   "source": [
    "$A = \\int x^2 e^{2x} dx$"
   ]
  },
  {
   "cell_type": "markdown",
   "id": "10b02991",
   "metadata": {},
   "source": [
    "* $f = x^2$\n",
    "* $f' = 2x$\n",
    "* $g = \\frac{1}{2}e^{2x}$\n",
    "* $g' = e^{2x}$"
   ]
  },
  {
   "cell_type": "markdown",
   "id": "696c0c85",
   "metadata": {},
   "source": [
    "$\\int A = x^{2}\\frac{1}{2}e^{2x} - \\int 2x \\frac{1}{2} e^{2x}dx = \\frac{1}{2}x^{2}e^{2x} - \\int x e^{2x}dx = \\frac{1}{2}x^{2}e^{2x} - B$"
   ]
  },
  {
   "cell_type": "markdown",
   "id": "3ff506c8",
   "metadata": {},
   "source": [
    "$B = \\int x e^{2x}dx$"
   ]
  },
  {
   "cell_type": "markdown",
   "id": "b35f8a7b",
   "metadata": {},
   "source": [
    "* $f = x$\n",
    "* $f' = 1$\n",
    "* $g = \\frac{1}{2}e^{2x}$\n",
    "* $g' = e^{2x}$"
   ]
  },
  {
   "cell_type": "markdown",
   "id": "24066a99",
   "metadata": {},
   "source": [
    "$\\int B = \\frac{1}{2} x e^{2x} - \\int \\frac{1}{2}e^{2x}dx = \\frac{1}{2} x e^{2x} - \\frac{1}{4} e^{2x}$"
   ]
  },
  {
   "cell_type": "markdown",
   "id": "25bc2884",
   "metadata": {},
   "source": [
    "$\\int x^3 e^{2x}dx = \\frac{1}{2}e^{2x}x^{3} - \\frac{3}{2}(\\frac{1}{2}x^{2}e^{2x} - \\frac{1}{2} x e^{2x} - \\frac{1}{4} e^{2x}) = $"
   ]
  },
  {
   "cell_type": "markdown",
   "id": "a792aa33",
   "metadata": {},
   "source": [
    "$\\frac{1}{2}e^{2x}x^{3} -\\frac{3}{4}x^{2}e^{2x} + \\frac{3}{4} x e^{2x} + \\frac{3}{8} e^{2x} = $"
   ]
  },
  {
   "cell_type": "markdown",
   "id": "3df00c95",
   "metadata": {},
   "source": [
    "$\\frac{1}{8}e^{2x}(4x^3 - 6x^2 + 6x + 3)$"
   ]
  },
  {
   "cell_type": "markdown",
   "id": "cfb0b7c7",
   "metadata": {},
   "source": [
    "__Ex 21__:\n",
    "\n",
    "$\\int x e ^ {-\\lambda x} dx$"
   ]
  },
  {
   "cell_type": "markdown",
   "id": "688ef48d",
   "metadata": {},
   "source": [
    "__Solution:__\n",
    "\n",
    "* $f=x$\n",
    "* $f'=1$\n",
    "* $g=\\int e^{-\\lambda x} dx \\rightarrow u = -\\lambda x \\rightarrow \\frac{du}{dx} = -\\lambda \\rightarrow dx = -\\frac{1}{\\lambda} du $\n",
    "\n",
    "$-\\frac{1}{\\lambda} \\int e^{u} du = -\\frac{1}{\\lambda} e^{u} = -\\frac{1}{\\lambda} e^{-\\lambda x }$\n",
    "* $g'=e^{-\\lambda x}$"
   ]
  },
  {
   "cell_type": "markdown",
   "id": "d7aa3d74",
   "metadata": {},
   "source": [
    "$\\int x e ^ {-\\lambda x} dx = - \\frac{1}{\\lambda}xe^{-\\lambda x} + \\int  \\frac{1}{\\lambda}e^{-\\lambda x} dx = $"
   ]
  },
  {
   "cell_type": "markdown",
   "id": "06375094",
   "metadata": {},
   "source": [
    "$- \\frac{1}{\\lambda}xe^{-\\lambda x} + \\frac{1}{\\lambda} \\int e^{-\\lambda x} dx = - \\frac{1}{\\lambda}xe^{-\\lambda x} +\\frac{1}{\\lambda}*-\\frac{1}{\\lambda} e^{-\\lambda x } = $"
   ]
  },
  {
   "cell_type": "markdown",
   "id": "3b1ee092",
   "metadata": {},
   "source": [
    "$ - \\frac{1}{\\lambda}e^{-\\lambda x}(x+\\frac{1}{\\lambda}) = $"
   ]
  },
  {
   "cell_type": "markdown",
   "id": "b7f1fde0",
   "metadata": {},
   "source": []
  },
  {
   "cell_type": "markdown",
   "id": "55255c79",
   "metadata": {},
   "source": []
  },
  {
   "cell_type": "markdown",
   "id": "ae6b45ba",
   "metadata": {},
   "source": []
  }
 ],
 "metadata": {
  "kernelspec": {
   "display_name": "Python 3 (ipykernel)",
   "language": "python",
   "name": "python3"
  },
  "language_info": {
   "codemirror_mode": {
    "name": "ipython",
    "version": 3
   },
   "file_extension": ".py",
   "mimetype": "text/x-python",
   "name": "python",
   "nbconvert_exporter": "python",
   "pygments_lexer": "ipython3",
   "version": "3.10.12"
  }
 },
 "nbformat": 4,
 "nbformat_minor": 5
}
