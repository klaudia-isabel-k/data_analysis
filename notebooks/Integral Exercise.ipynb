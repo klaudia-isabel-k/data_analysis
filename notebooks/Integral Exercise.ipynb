{
 "cells": [
  {
   "cell_type": "markdown",
   "id": "2590d24c",
   "metadata": {},
   "source": [
    "## Simple Examples"
   ]
  },
  {
   "cell_type": "markdown",
   "id": "46c21dd0",
   "metadata": {},
   "source": [
    "__Ex 1__:\n",
    "\n",
    "$\\int \\sqrt{x} dx$"
   ]
  },
  {
   "cell_type": "markdown",
   "id": "c5e250d3",
   "metadata": {},
   "source": [
    "__Solution:__\n",
    "\n",
    "$\\int x^{1/2} dx = \\frac{2}{3} x^{\\frac{3}{2}} + C = \\frac{2}{3} x\\sqrt{x} + C$"
   ]
  },
  {
   "cell_type": "markdown",
   "id": "fd05c66d",
   "metadata": {},
   "source": [
    "__Ex 2__: \n",
    "\n",
    "$\\int 3e^{x} dx$"
   ]
  },
  {
   "cell_type": "markdown",
   "id": "7e50843e",
   "metadata": {},
   "source": [
    "__Solution:__\n",
    "\n",
    "$3 \\int e^{x} dx = 3 \\frac{e^{x}}{ln(e)} + C = 3e^{x} + C$"
   ]
  },
  {
   "cell_type": "markdown",
   "id": "fe26cb8e",
   "metadata": {},
   "source": [
    "__Ex 3__:\n",
    "\n",
    "$\\int (3x^{2} −\\sqrt{5x} + 2) dx$"
   ]
  },
  {
   "cell_type": "markdown",
   "id": "f8f8d6e2",
   "metadata": {},
   "source": [
    "__Solution:__\n",
    "\n",
    "$3\\int x^{2}dx −\\sqrt{5}\\int\\sqrt{x}dx + 2 \\int 1 dx = $"
   ]
  },
  {
   "cell_type": "markdown",
   "id": "1a55ccce",
   "metadata": {},
   "source": [
    "$= 3 * \\frac{x^{3}}{3} −\\sqrt{5} * \\frac{2}{3} x^{\\frac{3}{2}} + 2 * x + C =$"
   ]
  },
  {
   "cell_type": "markdown",
   "id": "c5b2d573",
   "metadata": {},
   "source": [
    "$=x^{3} − \\frac{2\\sqrt{5}}{3} x^{\\frac{3}{2}} + 2x + C$"
   ]
  },
  {
   "cell_type": "markdown",
   "id": "292b6126",
   "metadata": {},
   "source": [
    "__Ex 4__:\n",
    "\n",
    "$\\int \\frac{1}{2x} - \\frac{2}{x^2} + \\frac{3}{\\sqrt{x}}dx$"
   ]
  },
  {
   "cell_type": "markdown",
   "id": "84d5d642",
   "metadata": {},
   "source": [
    "__Solution:__\n",
    "\n",
    "$\\frac{1}{2}\\int x^{-1} dx - 2 \\int x^{-2} dx + 3\\int x^{-\\frac{1}{2}}dx = $"
   ]
  },
  {
   "cell_type": "markdown",
   "id": "0abfcd19",
   "metadata": {},
   "source": [
    "$= \\frac{1}{2} ln(|x|) + 2 x^{-1} + 3 * 2 x^{\\frac{1}{2}}  + C = $"
   ]
  },
  {
   "cell_type": "markdown",
   "id": "ba050053",
   "metadata": {},
   "source": [
    "$= \\frac{ln(|x|)}{2} + \\frac{2}{x} + 6 \\sqrt{x} + C$"
   ]
  },
  {
   "cell_type": "markdown",
   "id": "b8693a9f",
   "metadata": {},
   "source": [
    "__Ex 5__:\n",
    "\n",
    "$\\int (2e^{x} + \\frac{6}{x} + ln(2)) dx$"
   ]
  },
  {
   "cell_type": "markdown",
   "id": "cb18a530",
   "metadata": {},
   "source": [
    "__Solution:__\n",
    "\n",
    "$2\\int e^x dx + 6\\int \\frac{1}{x} dx + ln(2) \\int 1 dx = $"
   ]
  },
  {
   "cell_type": "markdown",
   "id": "d1993b21",
   "metadata": {},
   "source": [
    "$= 2e^x  + 6 ln(|x|) + ln(2) x + C $"
   ]
  },
  {
   "cell_type": "markdown",
   "id": "40bed591",
   "metadata": {},
   "source": [
    "__Ex 6__:\n",
    "\n",
    "$\\int \\frac{x^2 + 3x -2}{\\sqrt{x}}dx$"
   ]
  },
  {
   "cell_type": "markdown",
   "id": "519cb5a9",
   "metadata": {},
   "source": [
    "__Solution:__\n",
    "\n",
    "$\\int x^{\\frac{3}{2}}dx + 3\\int x^{\\frac{1}{2}}dx - 2\\int x^{-\\frac{1}{2}}dx = $"
   ]
  },
  {
   "cell_type": "markdown",
   "id": "18e654da",
   "metadata": {},
   "source": [
    "$\\frac{2}{5} x^{\\frac{5}{2}} + 3 \\frac{2}{3}x^{\\frac{3}{2}}dx - 2 * 2 x^{\\frac{1}{2}} + C = $"
   ]
  },
  {
   "cell_type": "markdown",
   "id": "d8642a3f",
   "metadata": {},
   "source": [
    "$\\frac{2}{5} x^{2} \\sqrt{x} + 2 x \\sqrt{x} - 4 \\sqrt{x} + C $"
   ]
  },
  {
   "cell_type": "markdown",
   "id": "48288bfc",
   "metadata": {},
   "source": [
    "__Ex 7__:\n",
    "\n",
    "$\\int (x^3 -2x^2)(\\frac{1}{x} - 5) dx$"
   ]
  },
  {
   "cell_type": "markdown",
   "id": "ae659d4c",
   "metadata": {},
   "source": [
    "__Solution:__\n",
    "\n",
    "$\\int (x^2 - 5 x^3 - 2x + 10x^2) dx$"
   ]
  },
  {
   "cell_type": "markdown",
   "id": "57fd058e",
   "metadata": {},
   "source": [
    "$\\int x^2 dx - 5 \\int x^3 dx - 2 \\int x dx +  10 \\int x^2 dx = $"
   ]
  },
  {
   "cell_type": "markdown",
   "id": "9e639b4b",
   "metadata": {},
   "source": [
    "$ = \\frac{1}{3} x^3 - 5 \\frac{1}{4} x^4 - 2 \\frac{1}{2} x^2 +  10 \\frac{1}{3} x^3 + C = $"
   ]
  },
  {
   "cell_type": "markdown",
   "id": "0ca1aa27",
   "metadata": {},
   "source": [
    "$ = \\frac{1}{3} x^3 - \\frac{5}{4} x^4 - x^2 + \\frac{10}{3} x^3 + C = $"
   ]
  },
  {
   "cell_type": "markdown",
   "id": "89cba7a6",
   "metadata": {},
   "source": [
    "$ = - \\frac{5}{4} x^4 + \\frac{11}{3} x^3 - x^2 + C$"
   ]
  },
  {
   "cell_type": "markdown",
   "id": "41c57281",
   "metadata": {},
   "source": [
    "## Examples Requiring Subtitution"
   ]
  },
  {
   "cell_type": "markdown",
   "id": "853c83f1",
   "metadata": {},
   "source": [
    "#### Integration by substitution\n",
    "\n",
    "Let the following integral:\n",
    "$\\int ax dx $\n",
    "\n",
    "Substitute ax with u by the following method:\n",
    "\n",
    "* 1. Set: $u = ax$\n",
    "* 2. Calc dx: \n",
    " $\\frac{du}{dx} = a \\rightarrow dx = \\frac{du}{a}$"
   ]
  },
  {
   "cell_type": "markdown",
   "id": "2fd16500",
   "metadata": {},
   "source": [
    "__Ex 8__:\n",
    "\n",
    "$\\int (2x + 6)^{5}dx$"
   ]
  },
  {
   "cell_type": "markdown",
   "id": "f5f7f4a7",
   "metadata": {},
   "source": [
    "__Solution:__\n",
    "\n",
    "$u = 2x + 6$"
   ]
  },
  {
   "cell_type": "markdown",
   "id": "5a67c09e",
   "metadata": {},
   "source": [
    "$\\frac{du}{dx} = 2 \\rightarrow dx = \\frac{1}{2}du$"
   ]
  },
  {
   "cell_type": "markdown",
   "id": "ed60c477",
   "metadata": {},
   "source": [
    "$\\int \\frac{1}{2}u^{5}du = \\frac{1}{2}\\int u^{5}du = \\frac{1}{2}\\frac{1}{6} u^{6} + C = $"
   ]
  },
  {
   "cell_type": "markdown",
   "id": "66ec83b7",
   "metadata": {},
   "source": [
    "_Revert Substitution_"
   ]
  },
  {
   "cell_type": "markdown",
   "id": "9749f04b",
   "metadata": {},
   "source": [
    "$\\frac{1}{12}(2x + 6)^{6} + C$"
   ]
  },
  {
   "cell_type": "markdown",
   "id": "45303cf4",
   "metadata": {},
   "source": [
    "__Ex 9__:\n",
    "\n",
    "$\\int [(x-1)^{5} + 3(x-1)^{2} + 5] dx$"
   ]
  },
  {
   "cell_type": "markdown",
   "id": "6dbc58f7",
   "metadata": {},
   "source": [
    "__Solution:__\n",
    "\n",
    "$u = x - 1$"
   ]
  },
  {
   "cell_type": "markdown",
   "id": "8c80b04f",
   "metadata": {},
   "source": [
    "$\\frac{du}{dx} = 1 \\rightarrow dx = du$"
   ]
  },
  {
   "cell_type": "markdown",
   "id": "f4d016cc",
   "metadata": {},
   "source": [
    "$\\int [u^{5} + 3u^{2} + 5] du = $"
   ]
  },
  {
   "cell_type": "markdown",
   "id": "58b4b8a1",
   "metadata": {},
   "source": [
    "$\\int u^{5} du + 3\\int u^{2} du + 5\\int 1 du = $"
   ]
  },
  {
   "cell_type": "markdown",
   "id": "a4d61c56",
   "metadata": {},
   "source": [
    "$\\frac{1}{6} u^{6} + 3\\frac{1}{3} u^{3} + 5u + C = \\frac{1}{6} u^{6} + u^{3} + 5u + C = $"
   ]
  },
  {
   "cell_type": "markdown",
   "id": "aa842128",
   "metadata": {},
   "source": [
    "_Revert Substitution_"
   ]
  },
  {
   "cell_type": "markdown",
   "id": "479897d6",
   "metadata": {},
   "source": [
    "$ \\frac{1}{6} (x-1)^{6} + (x-1)^{3} + 5(x-1) + C = $"
   ]
  },
  {
   "cell_type": "markdown",
   "id": "5cbf48dc",
   "metadata": {},
   "source": [
    "$ \\frac{1}{6} (x-1)^{6} + (x-1)^{3} + 5x + C$"
   ]
  },
  {
   "cell_type": "markdown",
   "id": "04ecede1",
   "metadata": {},
   "source": [
    "__Ex 10__:\n",
    "\n",
    "$\\int x^{5}e^{1-x^6}dx$"
   ]
  },
  {
   "cell_type": "markdown",
   "id": "9b357cb8",
   "metadata": {},
   "source": [
    "__Solution:__\n",
    "\n",
    "$u = 1 - x^{6}$"
   ]
  },
  {
   "cell_type": "markdown",
   "id": "dc5738d2",
   "metadata": {},
   "source": [
    "$\\frac{du}{dx} = -6x^{5} \\rightarrow \\frac{du}{-6x^{5}} = dx$"
   ]
  },
  {
   "cell_type": "markdown",
   "id": "dfec2281",
   "metadata": {},
   "source": [
    "$\\int x^{5}e^{u}\\frac{1}{-6x^5}du = $"
   ]
  },
  {
   "cell_type": "markdown",
   "id": "851cc2a2",
   "metadata": {},
   "source": [
    "$\\int -e^{u}\\frac{1}{6}du = -\\frac{1}{6}\\int e^{u}du = -\\frac{1}{6} e^{u} + C = $"
   ]
  },
  {
   "cell_type": "markdown",
   "id": "abbc7dba",
   "metadata": {},
   "source": [
    "_Revert Substitution_"
   ]
  },
  {
   "cell_type": "markdown",
   "id": "27b28ab1",
   "metadata": {},
   "source": [
    "$ -\\frac{1}{6} e^{1-x^{6}} + C$"
   ]
  },
  {
   "cell_type": "markdown",
   "id": "2334d86f",
   "metadata": {},
   "source": [
    "__Ex 11__:\n",
    "\n",
    "$\\int \\frac{10x^3-5x}{\\sqrt{x^4-x^2+6}} dx$"
   ]
  },
  {
   "cell_type": "markdown",
   "id": "4a685f97",
   "metadata": {},
   "source": [
    "__Solution:__\n",
    "\n",
    "$u = x^4 - x^2 + 6$"
   ]
  },
  {
   "cell_type": "markdown",
   "id": "55e91c98",
   "metadata": {},
   "source": [
    "$\\frac{du}{dx} = 4x^3 - 2x \\rightarrow \\frac{du}{2x(2x^2-1)}=dx$"
   ]
  },
  {
   "cell_type": "markdown",
   "id": "cf306baa",
   "metadata": {},
   "source": [
    "$\\int \\frac{10x^3-5x}{\\sqrt{u}} \\frac{1}{2x(2x^2-1)}du = \\int \\frac{5x(2x^2-1)}{\\sqrt{u}} \\frac{1}{2x(2x^2-1)}du = $"
   ]
  },
  {
   "cell_type": "markdown",
   "id": "a5d3fd41",
   "metadata": {},
   "source": [
    "$\\int \\frac{5}{\\sqrt{u}} \\frac{1}{2}du = \\frac{5}{2} \\int u^{-1/2} du = \\frac{5}{2} 2 u^{1/2} + C = 5 u^{1/2} + C = $"
   ]
  },
  {
   "cell_type": "markdown",
   "id": "d2744411",
   "metadata": {},
   "source": [
    "_Revert Substitution_"
   ]
  },
  {
   "cell_type": "markdown",
   "id": "59c29b54",
   "metadata": {},
   "source": [
    "$5 \\sqrt{x^4-x^2 + 6} + C $"
   ]
  },
  {
   "cell_type": "markdown",
   "id": "584dcee5",
   "metadata": {},
   "source": [
    "__Ex 12__:\n",
    "\n",
    "$\\int \\frac{1}{xlnx}dx$"
   ]
  },
  {
   "cell_type": "markdown",
   "id": "3ccbc9b4",
   "metadata": {},
   "source": [
    "__Solution:__\n",
    "\n",
    "$u = lnx$"
   ]
  },
  {
   "cell_type": "markdown",
   "id": "382a2a3b",
   "metadata": {},
   "source": [
    "$\\frac{du}{dx} = \\frac{1}{x} \\rightarrow dx=x du$"
   ]
  },
  {
   "cell_type": "markdown",
   "id": "298f3223",
   "metadata": {},
   "source": [
    "$\\int \\frac{1}{xu}xdu = \\int \\frac{1}{u}du = ln(|u|) + C = $"
   ]
  },
  {
   "cell_type": "markdown",
   "id": "7372b773",
   "metadata": {},
   "source": [
    "_Revert Substitution_"
   ]
  },
  {
   "cell_type": "markdown",
   "id": "6354d034",
   "metadata": {},
   "source": [
    "$ln(|lnx|) + C$"
   ]
  },
  {
   "cell_type": "markdown",
   "id": "f1756f9e",
   "metadata": {},
   "source": [
    "__Ex 13__:\n",
    "\n",
    "$\\int \\frac{lnx^2}{x}dx$"
   ]
  },
  {
   "cell_type": "markdown",
   "id": "1b6213bb",
   "metadata": {},
   "source": [
    "__Solution:__\n",
    "\n",
    "$\\int \\frac{2lnx}{x}dx$"
   ]
  },
  {
   "cell_type": "markdown",
   "id": "722c867f",
   "metadata": {},
   "source": [
    "$u = lnx$"
   ]
  },
  {
   "cell_type": "markdown",
   "id": "7be1edac",
   "metadata": {},
   "source": [
    "$\\frac{du}{dx} = \\frac{1}{x} \\rightarrow dx = x du$"
   ]
  },
  {
   "cell_type": "markdown",
   "id": "675b7141",
   "metadata": {},
   "source": [
    "$\\int \\frac{2u}{x}xdu = 2\\int udu= 2\\frac{1}{2} u^2 + C = $"
   ]
  },
  {
   "cell_type": "markdown",
   "id": "4b6349aa",
   "metadata": {},
   "source": [
    "_Revert Substitution_"
   ]
  },
  {
   "cell_type": "markdown",
   "id": "a2b5bd43",
   "metadata": {},
   "source": [
    "$(lnx)^{2} + C$"
   ]
  },
  {
   "cell_type": "markdown",
   "id": "1d3a2d98",
   "metadata": {},
   "source": [
    "__Ex 14__:\n",
    "\n",
    "$\\int (2x+3)\\sqrt{2x-1}dx$"
   ]
  },
  {
   "cell_type": "markdown",
   "id": "bcdb2bc9",
   "metadata": {},
   "source": [
    "__Solution:__\n",
    "\n",
    "$u = 2x - 1$"
   ]
  },
  {
   "cell_type": "markdown",
   "id": "325dbe30",
   "metadata": {},
   "source": [
    "$2x + 3 = u + 4$"
   ]
  },
  {
   "cell_type": "markdown",
   "id": "7d21aa7a",
   "metadata": {},
   "source": [
    "$\\frac{du}{dx} = 2 \\rightarrow \\frac{1}{2}du = dx$"
   ]
  },
  {
   "cell_type": "markdown",
   "id": "f1045d89",
   "metadata": {},
   "source": [
    "$\\int (u+4)\\sqrt{u}\\frac{1}{2}du = \\frac{1}{2}\\int (u+4)\\sqrt{u}du$"
   ]
  },
  {
   "cell_type": "markdown",
   "id": "d3eaeb20",
   "metadata": {},
   "source": [
    "$ \\frac{1}{2}\\int(u^{3/2}+4u^{1/2})du = \\frac{1}{2}\\int u^{3/2}du + 2\\int u^{1/2}du =$"
   ]
  },
  {
   "cell_type": "markdown",
   "id": "ab875e69",
   "metadata": {},
   "source": [
    "$\\frac{1}{2}\\frac{2}{5} u^{5/2} + 2\\frac{2}{3} u^{3/2} + C = \\frac{1}{5} u^{5/2} + \\frac{4}{3} u^{3/2} + C$"
   ]
  },
  {
   "cell_type": "markdown",
   "id": "d7b6e358",
   "metadata": {},
   "source": [
    "_Revert Substitution_"
   ]
  },
  {
   "cell_type": "markdown",
   "id": "93fd429a",
   "metadata": {},
   "source": [
    "$\\frac{1}{5}(2x - 1)^2\\sqrt{2x - 1}+\\frac{4}{3}(2x - 1)\\sqrt{2x - 1} + C =$"
   ]
  },
  {
   "cell_type": "markdown",
   "id": "b71eb048",
   "metadata": {},
   "source": [
    "$((2x - 1)\\sqrt{2x - 1})(\\frac{1}{5}(2x - 1)+\\frac{4}{3}) + C =$"
   ]
  },
  {
   "cell_type": "markdown",
   "id": "fe0f3142",
   "metadata": {},
   "source": [
    "$((2x - 1)\\sqrt{2x - 1})(\\frac{2}{5}x - \\frac{1}{5}+\\frac{4}{3}) + C =$"
   ]
  },
  {
   "cell_type": "markdown",
   "id": "72bbf055",
   "metadata": {},
   "source": [
    "$((2x - 1)\\sqrt{2x - 1})(\\frac{2}{5}x - \\frac{3}{15}+\\frac{20}{15}) + C =$"
   ]
  },
  {
   "cell_type": "markdown",
   "id": "a5b53b80",
   "metadata": {},
   "source": [
    "$((2x - 1)\\sqrt{2x - 1})(\\frac{2}{5}x + \\frac{17}{15}) + C $"
   ]
  },
  {
   "cell_type": "markdown",
   "id": "956f9101",
   "metadata": {},
   "source": [
    "## Examples Requiring Integration By Parts"
   ]
  },
  {
   "cell_type": "markdown",
   "id": "6155ff9e",
   "metadata": {},
   "source": [
    "#### Integration by Parts\n",
    "\n",
    "$\\int f g' = fg - \\int f' g$"
   ]
  },
  {
   "cell_type": "markdown",
   "id": "887205d8",
   "metadata": {},
   "source": [
    "__Ex 15__:\n",
    "\n",
    "$\\int x e^{0.1x}dx$"
   ]
  },
  {
   "cell_type": "markdown",
   "id": "96b270ce",
   "metadata": {},
   "source": [
    "__Solution:__\n",
    "\n",
    "* $f=x$\n",
    "* $f'=1$\n",
    "* $g=\\int e^{0.1x} dx -> \\int e^{u} 10 du = 10 e^u -> 10 e^{0.1x}$\n",
    "* $g'=e^{0.1x}$"
   ]
  },
  {
   "cell_type": "markdown",
   "id": "88b2aaa0",
   "metadata": {},
   "source": [
    "$\\int x e^{0.1x} dx = 10xe^{0.1x} - \\int 10e^{0.1x} dx = $"
   ]
  },
  {
   "cell_type": "markdown",
   "id": "4b44e0ba",
   "metadata": {},
   "source": [
    "$10xe^{0.1x} - 10 * 10 e^{0.1x} + C = $"
   ]
  },
  {
   "cell_type": "markdown",
   "id": "252de0b8",
   "metadata": {},
   "source": [
    "$10(x - 10) e^{0.1x} + C $"
   ]
  },
  {
   "cell_type": "markdown",
   "id": "f1b2c691",
   "metadata": {},
   "source": [
    "__Ex 16__:\n",
    "\n",
    "$\\int (3-2x)e^{-x} dx$"
   ]
  },
  {
   "cell_type": "markdown",
   "id": "ab84e958",
   "metadata": {},
   "source": [
    "__Solution:__\n",
    "\n",
    "* $f=3-2x$\n",
    "* $f'=-2$\n",
    "* $g=-e^{-x}$\n",
    "* $g'=e^{-x}$"
   ]
  },
  {
   "cell_type": "markdown",
   "id": "ee57c06f",
   "metadata": {},
   "source": [
    "$\\int (3-2x)e^{-x} dx = -e^{-x}(3-2x) - \\int -e^{-x} * (-2)dx = $"
   ]
  },
  {
   "cell_type": "markdown",
   "id": "233e2164",
   "metadata": {},
   "source": [
    "$ -3e^{-x}+ 2xe^{-x} - 2 \\int e^{-x} dx = $"
   ]
  },
  {
   "cell_type": "markdown",
   "id": "5e6f071e",
   "metadata": {},
   "source": [
    "$ -3e^{-x}+ 2xe^{-x} + 2 e^{-x} + C = $"
   ]
  },
  {
   "cell_type": "markdown",
   "id": "35dc4c65",
   "metadata": {},
   "source": [
    "$ -e^{-x}+ 2xe^{-x}+ C = $"
   ]
  },
  {
   "cell_type": "markdown",
   "id": "23131880",
   "metadata": {},
   "source": [
    "$ e^{-x}(2x-1) + C $"
   ]
  },
  {
   "cell_type": "markdown",
   "id": "332de8db",
   "metadata": {},
   "source": [
    "__Ex 17__:\n",
    "\n",
    "$\\int x lnx^{2} dx$"
   ]
  },
  {
   "cell_type": "markdown",
   "id": "1bd26879",
   "metadata": {},
   "source": [
    "__Solution:__\n",
    "\n",
    "$\\int 2x ln(x) dx$\n",
    "\n",
    "* $f=ln(x)$\n",
    "* $f'=\\frac{1}{x}$\n",
    "* $g=x^{2}$\n",
    "* $g'=2x$"
   ]
  },
  {
   "cell_type": "markdown",
   "id": "83853b31",
   "metadata": {},
   "source": [
    "$\\int 2x ln(x) dx = ln(x)x^{2} - \\int x^2 \\frac{1}{x}dx = $"
   ]
  },
  {
   "cell_type": "markdown",
   "id": "35895f4f",
   "metadata": {},
   "source": [
    "$ln(x)x^{2} - \\frac{1}{2}x^2 + C = x^{2}(ln(x)-\\frac{1}{2}) + C$"
   ]
  },
  {
   "cell_type": "markdown",
   "id": "ba397f0d",
   "metadata": {},
   "source": [
    "__Ex 18__:\n",
    "\n",
    "$\\int x \\sqrt{1-x} dx$"
   ]
  },
  {
   "cell_type": "markdown",
   "id": "f8f15206",
   "metadata": {},
   "source": [
    "__Solution:__\n",
    "\n",
    "* $f =x$\n",
    "* $f'= 1$\n",
    "* $g = \\int \\sqrt{1-x} dx \\rightarrow u = 1 - x \\rightarrow \\frac{du}{dx} = -1 \\rightarrow dx = -du$\n",
    "\n",
    "$= -\\int u^{1/2} du = - \\frac{2}{3} u^{3/2} = - \\frac{2}{3} (1-x)^{3/2} $\n",
    "\n",
    "* $g'=\\sqrt{1-x}$"
   ]
  },
  {
   "cell_type": "markdown",
   "id": "fa4ac6d6",
   "metadata": {},
   "source": [
    "$\\int x \\sqrt{1-x} dx = - \\frac{2x}{3} (1-x)^{3/2} + \\int \\frac{2}{3} (1-x)^{3/2} dx= $"
   ]
  },
  {
   "cell_type": "markdown",
   "id": "1f9d5f32",
   "metadata": {},
   "source": [
    "$ -\\frac{2}{3} x(1-x)\\sqrt{1-x} + \\frac{2}{3} \\int (1-x)^{3/2} dx= $"
   ]
  },
  {
   "cell_type": "markdown",
   "id": "6b958616",
   "metadata": {},
   "source": [
    "$u = 1 - x \\rightarrow  \\frac{du}{dx} = - 1 \\rightarrow dx = -du$"
   ]
  },
  {
   "cell_type": "markdown",
   "id": "35ce6efb",
   "metadata": {},
   "source": [
    "$ -\\frac{2}{3} x(1-x)\\sqrt{1-x} - \\frac{2}{3} \\int u^{3/2} du= $"
   ]
  },
  {
   "cell_type": "markdown",
   "id": "10e09f07",
   "metadata": {},
   "source": [
    "$ -\\frac{2}{3} x(1-x)\\sqrt{1-x} - \\frac{2}{3} \\frac{2}{5} u^{5/2} = $"
   ]
  },
  {
   "cell_type": "markdown",
   "id": "1ba7455a",
   "metadata": {},
   "source": [
    "$ -\\frac{2}{3} x(1-x)\\sqrt{1-x} - \\frac{4}{15} (1-x)^{2}\\sqrt{1-x} = $"
   ]
  },
  {
   "cell_type": "markdown",
   "id": "8876e232",
   "metadata": {},
   "source": [
    "$-(1-x)\\sqrt{1-x}(\\frac{2}{3}x+\\frac{4}{15}(1-x))$"
   ]
  },
  {
   "cell_type": "markdown",
   "id": "cc03e115",
   "metadata": {},
   "source": [
    "__Ex 19__:\n",
    "\n",
    "$\\int (x+1)(x+2)^{6}dx$"
   ]
  },
  {
   "cell_type": "markdown",
   "id": "ac5494c5",
   "metadata": {},
   "source": [
    "__Solution:__\n",
    "\n",
    "* $f= x + 1$\n",
    "* $f'= 1$\n",
    "* $g=\\int (x+2)^6 dx \\rightarrow u = x + 2 \\rightarrow \\frac{du}{dx} = 1 \\rightarrow du = dx$\n",
    "\n",
    "$\\int u^6 du = \\frac{1}{7} u^{7} = \\frac{1}{7} (x+2)^{7}$\n",
    "* $g'=(x+2)^6$"
   ]
  },
  {
   "cell_type": "markdown",
   "id": "f8705f98",
   "metadata": {},
   "source": [
    "$\\int (x+1)(x+2)^{6}dx = \\frac{1}{7}(x+1)(x+2)^7 - \\int \\frac{1}{7}(x+2)^7 dx = $"
   ]
  },
  {
   "cell_type": "markdown",
   "id": "12d99f4c",
   "metadata": {},
   "source": [
    "$ \\frac{1}{7}(x+1)(x+2)^7 - \\frac{1}{7} \\int u^7 du =$"
   ]
  },
  {
   "cell_type": "markdown",
   "id": "10d1311a",
   "metadata": {},
   "source": [
    "$ \\frac{1}{7}(x+1)(x+2)^7 - \\frac{1}{7} \\frac{1}{8} u^8 + C =$"
   ]
  },
  {
   "cell_type": "markdown",
   "id": "55ae103b",
   "metadata": {},
   "source": [
    "$ \\frac{1}{7}(x+1)(x+2)^7 - \\frac{1}{7} \\frac{1}{8} (x+2)^8 + C =$"
   ]
  },
  {
   "cell_type": "markdown",
   "id": "33c33889",
   "metadata": {},
   "source": [
    "$ \\frac{1}{7}(x+2)^7((x+1)-\\frac{1}{8} (x+2)) + C =$"
   ]
  },
  {
   "cell_type": "markdown",
   "id": "aeb99bba",
   "metadata": {},
   "source": [
    "$ \\frac{1}{7}(x+2)^7(x+1-\\frac{1}{8}x-\\frac{1}{4}) + C =$"
   ]
  },
  {
   "cell_type": "markdown",
   "id": "9b055742",
   "metadata": {},
   "source": [
    "$ \\frac{1}{7}(x+2)^7(\\frac{7}{8}x+\\frac{3}{4}) + C =$"
   ]
  },
  {
   "cell_type": "markdown",
   "id": "d43d514b",
   "metadata": {},
   "source": [
    "$ \\frac{1}{56}(x+2)^7(7x+6) + C$"
   ]
  },
  {
   "cell_type": "markdown",
   "id": "c417861d",
   "metadata": {},
   "source": [
    "__Ex 20__:\n",
    "\n",
    "$\\int x^3 e^{2x}dx$"
   ]
  },
  {
   "cell_type": "markdown",
   "id": "2e3af784",
   "metadata": {},
   "source": [
    "__Solution:__\n",
    "\n",
    "* $f=\\frac{1}{2}e^{2x}$\n",
    "* $f'=e^{2x}$\n",
    "* $g=x^3$\n",
    "* $g'=3x^2$"
   ]
  },
  {
   "cell_type": "markdown",
   "id": "d3275706",
   "metadata": {},
   "source": [
    "$\\int x^3 e^{2x}dx = \\frac{1}{2}e^{2x}x^{3} - \\int 3x^2 \\frac{1}{2}e^{2x} dx = $"
   ]
  },
  {
   "cell_type": "markdown",
   "id": "b4b844f0",
   "metadata": {},
   "source": [
    "$\\frac{1}{2}e^{2x}x^{3} - \\frac{3}{2} \\int x^2 e^{2x} dx = \\frac{1}{2}e^{2x}x^{3} - \\frac{3}{2}A $"
   ]
  },
  {
   "cell_type": "markdown",
   "id": "b6cc03ec",
   "metadata": {},
   "source": [
    "$A = \\int x^2 e^{2x} dx$"
   ]
  },
  {
   "cell_type": "markdown",
   "id": "076aab8a",
   "metadata": {},
   "source": [
    "* $f = x^2$\n",
    "* $f' = 2x$\n",
    "* $g = \\frac{1}{2}e^{2x}$\n",
    "* $g' = e^{2x}$"
   ]
  },
  {
   "cell_type": "markdown",
   "id": "0a9fbfa7",
   "metadata": {},
   "source": [
    "$\\int A = x^{2}\\frac{1}{2}e^{2x} - \\int 2x \\frac{1}{2} e^{2x}dx = \\frac{1}{2}x^{2}e^{2x} - \\int x e^{2x}dx = \\frac{1}{2}x^{2}e^{2x} - B$"
   ]
  },
  {
   "cell_type": "markdown",
   "id": "5685fe72",
   "metadata": {},
   "source": [
    "$B = \\int x e^{2x}dx$"
   ]
  },
  {
   "cell_type": "markdown",
   "id": "b02d6e8e",
   "metadata": {},
   "source": [
    "* $f = x$\n",
    "* $f' = 1$\n",
    "* $g = \\frac{1}{2}e^{2x}$\n",
    "* $g' = e^{2x}$"
   ]
  },
  {
   "cell_type": "markdown",
   "id": "211f8e4a",
   "metadata": {},
   "source": [
    "$\\int B = \\frac{1}{2} x e^{2x} - \\int \\frac{1}{2}e^{2x}dx = \\frac{1}{2} x e^{2x} - \\frac{1}{4} e^{2x}$"
   ]
  },
  {
   "cell_type": "markdown",
   "id": "9de44ef0",
   "metadata": {},
   "source": [
    "$\\int x^3 e^{2x}dx = \\frac{1}{2}e^{2x}x^{3} - \\frac{3}{2}(\\frac{1}{2}x^{2}e^{2x} - \\frac{1}{2} x e^{2x} - \\frac{1}{4} e^{2x}) = $"
   ]
  },
  {
   "cell_type": "markdown",
   "id": "5618ee08",
   "metadata": {},
   "source": [
    "$\\frac{1}{2}e^{2x}x^{3} -\\frac{3}{4}x^{2}e^{2x} + \\frac{3}{4} x e^{2x} + \\frac{3}{8} e^{2x} = $"
   ]
  },
  {
   "cell_type": "markdown",
   "id": "20afffb5",
   "metadata": {},
   "source": [
    "$\\frac{1}{8}e^{2x}(4x^3 - 6x^2 + 6x + 3)$"
   ]
  },
  {
   "cell_type": "markdown",
   "id": "ebbfe52a",
   "metadata": {},
   "source": [
    "__Ex 21__:\n",
    "\n",
    "$\\int x e ^ {-\\lambda x} dx$"
   ]
  },
  {
   "cell_type": "markdown",
   "id": "db38d52b",
   "metadata": {},
   "source": [
    "__Solution:__\n",
    "\n",
    "* $f=x$\n",
    "* $f'=1$\n",
    "* $g=\\int e^{-\\lambda x} dx \\rightarrow u = -\\lambda x \\rightarrow \\frac{du}{dx} = -\\lambda \\rightarrow dx = -\\frac{1}{\\lambda} du $\n",
    "\n",
    "$-\\frac{1}{\\lambda} \\int e^{u} du = -\\frac{1}{\\lambda} e^{u} = -\\frac{1}{\\lambda} e^{-\\lambda x }$\n",
    "* $g'=e^{-\\lambda x}$"
   ]
  },
  {
   "cell_type": "markdown",
   "id": "04d9e6e1",
   "metadata": {},
   "source": [
    "$\\int x e ^ {-\\lambda x} dx = - \\frac{1}{\\lambda}xe^{-\\lambda x} + \\int  \\frac{1}{\\lambda}e^{-\\lambda x} dx = $"
   ]
  },
  {
   "cell_type": "markdown",
   "id": "e082b7e0",
   "metadata": {},
   "source": [
    "$- \\frac{1}{\\lambda}xe^{-\\lambda x} + \\frac{1}{\\lambda} \\int e^{-\\lambda x} dx = - \\frac{1}{\\lambda}xe^{-\\lambda x} +\\frac{1}{\\lambda}*-\\frac{1}{\\lambda} e^{-\\lambda x } = $"
   ]
  },
  {
   "cell_type": "markdown",
   "id": "3ecdd2bf",
   "metadata": {},
   "source": [
    "$ - \\frac{1}{\\lambda}e^{-\\lambda x}(x+\\frac{1}{\\lambda}) $"
   ]
  }
 ],
 "metadata": {
  "kernelspec": {
   "display_name": "Python 3 (ipykernel)",
   "language": "python",
   "name": "python3"
  },
  "language_info": {
   "codemirror_mode": {
    "name": "ipython",
    "version": 3
   },
   "file_extension": ".py",
   "mimetype": "text/x-python",
   "name": "python",
   "nbconvert_exporter": "python",
   "pygments_lexer": "ipython3",
   "version": "3.10.12"
  }
 },
 "nbformat": 4,
 "nbformat_minor": 5
}
