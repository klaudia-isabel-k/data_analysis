{
 "cells": [
  {
   "cell_type": "markdown",
   "id": "6f73e329",
   "metadata": {},
   "source": [
    "## Simple Examples"
   ]
  },
  {
   "cell_type": "markdown",
   "id": "1755f502",
   "metadata": {},
   "source": [
    "__Ex 1__:\n",
    "\n",
    "$\\int \\sqrt{x} dx$"
   ]
  },
  {
   "cell_type": "markdown",
   "id": "76c7cc0c",
   "metadata": {},
   "source": [
    "__Solution:__\n",
    "\n",
    "$\\int x^{1/2} dx = \\frac{2}{3} x^{\\frac{3}{2}} + C = \\frac{2}{3} x\\sqrt{x} + C$"
   ]
  },
  {
   "cell_type": "markdown",
   "id": "b1e3a4e9",
   "metadata": {},
   "source": [
    "__Ex 2__: \n",
    "\n",
    "$\\int 3e^{x} dx$"
   ]
  },
  {
   "cell_type": "markdown",
   "id": "72451261",
   "metadata": {},
   "source": [
    "__Solution:__\n",
    "\n",
    "$3 \\int e^{x} dx = 3 \\frac{e^{x}}{ln(e)} + C = 3e^{x} + C$"
   ]
  },
  {
   "cell_type": "markdown",
   "id": "d6176c0c",
   "metadata": {},
   "source": [
    "__Ex 3__:\n",
    "\n",
    "$\\int (3x^{2} −\\sqrt{5x} + 2) dx$"
   ]
  },
  {
   "cell_type": "markdown",
   "id": "d4b79d79",
   "metadata": {},
   "source": [
    "__Solution:__\n",
    "\n",
    "$3\\int x^{2}dx −\\sqrt{5}\\int\\sqrt{x}dx + 2 \\int 1 dx = $"
   ]
  },
  {
   "cell_type": "markdown",
   "id": "d568c55c",
   "metadata": {},
   "source": [
    "$= 3 * \\frac{x^{3}}{3} −\\sqrt{5} * \\frac{2}{3} x^{\\frac{3}{2}} + 2 * x + C =$"
   ]
  },
  {
   "cell_type": "markdown",
   "id": "98c7d869",
   "metadata": {},
   "source": [
    "$=x^{3} − \\frac{2\\sqrt{5}}{3} x^{\\frac{3}{2}} + 2x + C$"
   ]
  },
  {
   "cell_type": "markdown",
   "id": "aaf089d6",
   "metadata": {},
   "source": [
    "__Ex 4__:\n",
    "\n",
    "$\\int \\frac{1}{2x} - \\frac{2}{x^2} + \\frac{3}{\\sqrt{x}}dx$"
   ]
  },
  {
   "cell_type": "markdown",
   "id": "367c2a81",
   "metadata": {},
   "source": [
    "__Solution:__\n",
    "\n",
    "$\\frac{1}{2}\\int x^{-1} dx - 2 \\int x^{-2} dx + 3\\int x^{-\\frac{1}{2}}dx = $"
   ]
  },
  {
   "cell_type": "markdown",
   "id": "64ebce4a",
   "metadata": {},
   "source": [
    "$= \\frac{1}{2} ln(|x|) + 2 x^{-1} + 3 * 2 x^{\\frac{1}{2}}  + C = $"
   ]
  },
  {
   "cell_type": "markdown",
   "id": "e8a04a24",
   "metadata": {},
   "source": [
    "$= \\frac{ln(|x|)}{2} + \\frac{2}{x} + 6 \\sqrt{x} + C$"
   ]
  },
  {
   "cell_type": "markdown",
   "id": "78ead2c7",
   "metadata": {},
   "source": [
    "__Ex 5__:\n",
    "\n",
    "$\\int (2e^{x} + \\frac{6}{x} + ln(2)) dx$"
   ]
  },
  {
   "cell_type": "markdown",
   "id": "1608607d",
   "metadata": {},
   "source": [
    "__Solution:__\n",
    "\n",
    "$2\\int e^x dx + 6\\int \\frac{1}{x} dx + ln(2) \\int 1 dx = $"
   ]
  },
  {
   "cell_type": "markdown",
   "id": "09c83f3c",
   "metadata": {},
   "source": [
    "$= 2e^x  + 6 ln(|x|) + ln(2) x + C $"
   ]
  },
  {
   "cell_type": "markdown",
   "id": "43521a87",
   "metadata": {},
   "source": [
    "__Ex 6__:\n",
    "\n",
    "$\\int \\frac{x^2 + 3x -2}{\\sqrt{x}}dx$"
   ]
  },
  {
   "cell_type": "markdown",
   "id": "e83e11a6",
   "metadata": {},
   "source": [
    "__Solution:__\n",
    "\n",
    "$\\int x^{\\frac{3}{2}}dx + 3\\int x^{\\frac{1}{2}}dx - 2\\int x^{-\\frac{1}{2}}dx = $"
   ]
  },
  {
   "cell_type": "markdown",
   "id": "d2346b42",
   "metadata": {},
   "source": [
    "$\\frac{2}{5} x^{\\frac{5}{2}} + 3 \\frac{2}{3}x^{\\frac{3}{2}}dx - 2 * 2 x^{\\frac{1}{2}} + C = $"
   ]
  },
  {
   "cell_type": "markdown",
   "id": "3ef0b916",
   "metadata": {},
   "source": [
    "$\\frac{2}{5} x^{2} \\sqrt{x} + 2 x \\sqrt{x} - 4 \\sqrt{x} + C $"
   ]
  },
  {
   "cell_type": "markdown",
   "id": "e35d1d63",
   "metadata": {},
   "source": [
    "__Ex 7__:\n",
    "\n",
    "$\\int (x^3 -2x^2)(\\frac{1}{x} - 5) dx$"
   ]
  },
  {
   "cell_type": "markdown",
   "id": "9d23101b",
   "metadata": {},
   "source": [
    "__Solution:__\n",
    "\n",
    "$\\int (x^2 - 5 x^3 - 2x + 10x^2) dx$"
   ]
  },
  {
   "cell_type": "markdown",
   "id": "7a6d653e",
   "metadata": {},
   "source": [
    "$\\int x^2 dx - 5 \\int x^3 dx - 2 \\int x dx +  10 \\int x^2 dx = $"
   ]
  },
  {
   "cell_type": "markdown",
   "id": "ee844bca",
   "metadata": {},
   "source": [
    "$ = \\frac{1}{3} x^3 - 5 \\frac{1}{4} x^4 - 2 \\frac{1}{2} x^2 +  10 \\frac{1}{3} x^3 + C = $"
   ]
  },
  {
   "cell_type": "markdown",
   "id": "406acbd0",
   "metadata": {},
   "source": [
    "$ = \\frac{1}{3} x^3 - \\frac{5}{4} x^4 - x^2 + \\frac{10}{3} x^3 + C = $"
   ]
  },
  {
   "cell_type": "markdown",
   "id": "e851693a",
   "metadata": {},
   "source": [
    "$ = - \\frac{5}{4} x^4 + \\frac{11}{3} x^3 - x^2 + C$"
   ]
  },
  {
   "cell_type": "markdown",
   "id": "b9e9dd44",
   "metadata": {},
   "source": [
    "## Examples Requiring Subtitution"
   ]
  },
  {
   "cell_type": "markdown",
   "id": "39f140b0",
   "metadata": {},
   "source": [
    "#### Integration by substitution\n",
    "\n",
    "Let the following integral:\n",
    "$\\int ax dx $\n",
    "\n",
    "Substitute ax with u by the following method:\n",
    "\n",
    "* 1. Set: $u = ax$\n",
    "* 2. Calc dx: \n",
    " $\\frac{du}{dx} = a \\rightarrow dx = \\frac{du}{a}$"
   ]
  },
  {
   "cell_type": "markdown",
   "id": "438bf16b",
   "metadata": {},
   "source": [
    "__Ex 8__:\n",
    "\n",
    "$\\int (2x + 6)^{5}dx$"
   ]
  },
  {
   "cell_type": "markdown",
   "id": "b5e397b4",
   "metadata": {},
   "source": [
    "__Solution:__\n",
    "\n",
    "$u = 2x + 6$"
   ]
  },
  {
   "cell_type": "markdown",
   "id": "4dac2cab",
   "metadata": {},
   "source": [
    "$\\frac{du}{dx} = 2 \\rightarrow dx = \\frac{1}{2}du$"
   ]
  },
  {
   "cell_type": "markdown",
   "id": "a1c3860d",
   "metadata": {},
   "source": [
    "$\\int \\frac{1}{2}u^{5}du = \\frac{1}{2}\\int u^{5}du = \\frac{1}{2}\\frac{1}{6} u^{6} + C = $"
   ]
  },
  {
   "cell_type": "markdown",
   "id": "8532792c",
   "metadata": {},
   "source": [
    "_Revert Substitution_"
   ]
  },
  {
   "cell_type": "markdown",
   "id": "8b1e62d1",
   "metadata": {},
   "source": [
    "$\\frac{1}{12}(2x + 6)^{6} + C$"
   ]
  },
  {
   "cell_type": "markdown",
   "id": "3dd69282",
   "metadata": {},
   "source": [
    "__Ex 9__:\n",
    "\n",
    "$\\int [(x-1)^{5} + 3(x-1)^{2} + 5] dx$"
   ]
  },
  {
   "cell_type": "markdown",
   "id": "fabc712c",
   "metadata": {},
   "source": [
    "__Solution:__\n",
    "\n",
    "$u = x - 1$"
   ]
  },
  {
   "cell_type": "markdown",
   "id": "b00b29b2",
   "metadata": {},
   "source": [
    "$\\frac{du}{dx} = 1 \\rightarrow dx = du$"
   ]
  },
  {
   "cell_type": "markdown",
   "id": "b5170044",
   "metadata": {},
   "source": [
    "$\\int [u^{5} + 3u^{2} + 5] du = $"
   ]
  },
  {
   "cell_type": "markdown",
   "id": "061c5f97",
   "metadata": {},
   "source": [
    "$\\int u^{5} du + 3\\int u^{2} du + 5\\int 1 du = $"
   ]
  },
  {
   "cell_type": "markdown",
   "id": "c2e112a2",
   "metadata": {},
   "source": [
    "$\\frac{1}{6} u^{6} + 3\\frac{1}{3} u^{3} + 5u + C = \\frac{1}{6} u^{6} + u^{3} + 5u + C = $"
   ]
  },
  {
   "cell_type": "markdown",
   "id": "d04a5b3e",
   "metadata": {},
   "source": [
    "_Revert Substitution_"
   ]
  },
  {
   "cell_type": "markdown",
   "id": "98cc2676",
   "metadata": {},
   "source": [
    "$ \\frac{1}{6} (x-1)^{6} + (x-1)^{3} + 5(x-1) + C = $"
   ]
  },
  {
   "cell_type": "markdown",
   "id": "9768081e",
   "metadata": {},
   "source": [
    "$ \\frac{1}{6} (x-1)^{6} + (x-1)^{3} + 5x + C$"
   ]
  },
  {
   "cell_type": "markdown",
   "id": "ca4e72b1",
   "metadata": {},
   "source": [
    "__Ex 10__:\n",
    "\n",
    "$\\int x^{5}e^{1-x^6}dx$"
   ]
  },
  {
   "cell_type": "markdown",
   "id": "14db84b1",
   "metadata": {},
   "source": [
    "__Solution:__\n",
    "\n",
    "$u = 1 - x^{6}$"
   ]
  },
  {
   "cell_type": "markdown",
   "id": "16773113",
   "metadata": {},
   "source": [
    "$\\frac{du}{dx} = -6x^{5} \\rightarrow \\frac{du}{-6x^{5}} = dx$"
   ]
  },
  {
   "cell_type": "markdown",
   "id": "b256f067",
   "metadata": {},
   "source": [
    "$\\int x^{5}e^{u}\\frac{1}{-6x^5}du = $"
   ]
  },
  {
   "cell_type": "markdown",
   "id": "8f9f00fd",
   "metadata": {},
   "source": [
    "$\\int -e^{u}\\frac{1}{6}du = -\\frac{1}{6}\\int e^{u}du = -\\frac{1}{6} e^{u} + C = $"
   ]
  },
  {
   "cell_type": "markdown",
   "id": "d25d9f74",
   "metadata": {},
   "source": [
    "_Revert Substitution_"
   ]
  },
  {
   "cell_type": "markdown",
   "id": "f884278f",
   "metadata": {},
   "source": [
    "$ -\\frac{1}{6} e^{1-x^{6}} + C$"
   ]
  },
  {
   "cell_type": "markdown",
   "id": "f43bcd8e",
   "metadata": {},
   "source": [
    "__Ex 11__:\n",
    "\n",
    "$\\int \\frac{10x^3-5x}{\\sqrt{x^4-x^2+6}} dx$"
   ]
  },
  {
   "cell_type": "markdown",
   "id": "b192d380",
   "metadata": {},
   "source": [
    "__Solution:__\n",
    "\n",
    "$u = x^4 - x^2 + 6$"
   ]
  },
  {
   "cell_type": "markdown",
   "id": "1bc19518",
   "metadata": {},
   "source": [
    "$\\frac{du}{dx} = 4x^3 - 2x \\rightarrow \\frac{du}{2x(2x^2-1)}=dx$"
   ]
  },
  {
   "cell_type": "markdown",
   "id": "1ab80384",
   "metadata": {},
   "source": [
    "$\\int \\frac{10x^3-5x}{\\sqrt{u}} \\frac{1}{2x(2x^2-1)}du = \\int \\frac{5x(2x^2-1)}{\\sqrt{u}} \\frac{1}{2x(2x^2-1)}du = $"
   ]
  },
  {
   "cell_type": "markdown",
   "id": "87c490e7",
   "metadata": {},
   "source": [
    "$\\int \\frac{5}{\\sqrt{u}} \\frac{1}{2}du = \\frac{5}{2} \\int u^{-1/2} du = \\frac{5}{2} 2 u^{1/2} + C = 5 u^{1/2} + C = $"
   ]
  },
  {
   "cell_type": "markdown",
   "id": "a2e5a2dd",
   "metadata": {},
   "source": [
    "_Revert Substitution_"
   ]
  },
  {
   "cell_type": "markdown",
   "id": "50bfae10",
   "metadata": {},
   "source": [
    "$5 \\sqrt{x^4-x^2 + 6} + C $"
   ]
  },
  {
   "cell_type": "markdown",
   "id": "181a254c",
   "metadata": {},
   "source": [
    "__Ex 12__:\n",
    "\n",
    "$\\int \\frac{1}{xlnx}dx$"
   ]
  },
  {
   "cell_type": "markdown",
   "id": "8fe3fac8",
   "metadata": {},
   "source": [
    "__Solution:__\n",
    "\n",
    "$u = lnx$"
   ]
  },
  {
   "cell_type": "markdown",
   "id": "cd3db8bc",
   "metadata": {},
   "source": [
    "$\\frac{du}{dx} = \\frac{1}{x} \\rightarrow dx=x du$"
   ]
  },
  {
   "cell_type": "markdown",
   "id": "93e18732",
   "metadata": {},
   "source": [
    "$\\int \\frac{1}{xu}xdu = \\int \\frac{1}{u}du = ln(|u|) + C = $"
   ]
  },
  {
   "cell_type": "markdown",
   "id": "5db96ea8",
   "metadata": {},
   "source": [
    "_Revert Substitution_"
   ]
  },
  {
   "cell_type": "markdown",
   "id": "1d9b5d97",
   "metadata": {},
   "source": [
    "$ln(|lnx|) + C$"
   ]
  },
  {
   "cell_type": "markdown",
   "id": "0e88ac51",
   "metadata": {},
   "source": [
    "__Ex 13__:\n",
    "\n",
    "$\\int \\frac{lnx^2}{x}dx$"
   ]
  },
  {
   "cell_type": "markdown",
   "id": "27b3dde5",
   "metadata": {},
   "source": [
    "__Solution:__\n",
    "\n",
    "$\\int \\frac{2lnx}{x}dx$"
   ]
  },
  {
   "cell_type": "markdown",
   "id": "15433ee3",
   "metadata": {},
   "source": [
    "$u = lnx$"
   ]
  },
  {
   "cell_type": "markdown",
   "id": "fcf6fd72",
   "metadata": {},
   "source": [
    "$\\frac{du}{dx} = \\frac{1}{x} \\rightarrow dx = x du$"
   ]
  },
  {
   "cell_type": "markdown",
   "id": "c89b8d05",
   "metadata": {},
   "source": [
    "$\\int \\frac{2u}{x}xdu = 2\\int udu= 2\\frac{1}{2} u^2 + C = $"
   ]
  },
  {
   "cell_type": "markdown",
   "id": "b3023ebd",
   "metadata": {},
   "source": [
    "_Revert Substitution_"
   ]
  },
  {
   "cell_type": "markdown",
   "id": "0d020159",
   "metadata": {},
   "source": [
    "$(lnx)^{2} + C$"
   ]
  },
  {
   "cell_type": "markdown",
   "id": "8a72e557",
   "metadata": {},
   "source": [
    "__Ex 14__:\n",
    "\n",
    "$\\int (2x+3)\\sqrt{2x-1}dx$"
   ]
  },
  {
   "cell_type": "markdown",
   "id": "0b7f0f53",
   "metadata": {},
   "source": [
    "__Solution:__\n",
    "\n",
    "$u = 2x - 1$"
   ]
  },
  {
   "cell_type": "markdown",
   "id": "44dd8725",
   "metadata": {},
   "source": [
    "$2x + 3 = u + 4$"
   ]
  },
  {
   "cell_type": "markdown",
   "id": "d8296bee",
   "metadata": {},
   "source": [
    "$\\frac{du}{dx} = 2 \\rightarrow \\frac{1}{2}du = dx$"
   ]
  },
  {
   "cell_type": "markdown",
   "id": "038037fe",
   "metadata": {},
   "source": [
    "$\\int (u+4)\\sqrt{u}\\frac{1}{2}du = \\frac{1}{2}\\int (u+4)\\sqrt{u}du$"
   ]
  },
  {
   "cell_type": "markdown",
   "id": "119dbe2c",
   "metadata": {},
   "source": [
    "$ \\frac{1}{2}\\int(u^{3/2}+4u^{1/2})du = \\frac{1}{2}\\int u^{3/2}du + 2\\int u^{1/2}du =$"
   ]
  },
  {
   "cell_type": "markdown",
   "id": "9679b076",
   "metadata": {},
   "source": [
    "$\\frac{1}{2}\\frac{2}{5} u^{5/2} + 2\\frac{2}{3} u^{3/2} + C = \\frac{1}{5} u^{5/2} + \\frac{4}{3} u^{3/2} + C$"
   ]
  },
  {
   "cell_type": "markdown",
   "id": "ab165744",
   "metadata": {},
   "source": [
    "_Revert Substitution_"
   ]
  },
  {
   "cell_type": "markdown",
   "id": "ef6a60c7",
   "metadata": {},
   "source": [
    "$\\frac{1}{5}(2x - 1)^2\\sqrt{2x - 1}+\\frac{4}{3}(2x - 1)\\sqrt{2x - 1} + C =$"
   ]
  },
  {
   "cell_type": "markdown",
   "id": "478260c0",
   "metadata": {},
   "source": [
    "$((2x - 1)\\sqrt{2x - 1})(\\frac{1}{5}(2x - 1)+\\frac{4}{3}) + C =$"
   ]
  },
  {
   "cell_type": "markdown",
   "id": "c163e1ea",
   "metadata": {},
   "source": [
    "$((2x - 1)\\sqrt{2x - 1})(\\frac{2}{5}x - \\frac{1}{5}+\\frac{4}{3}) + C =$"
   ]
  },
  {
   "cell_type": "markdown",
   "id": "3b1aec76",
   "metadata": {},
   "source": [
    "$((2x - 1)\\sqrt{2x - 1})(\\frac{2}{5}x - \\frac{3}{15}+\\frac{20}{15}) + C =$"
   ]
  },
  {
   "cell_type": "markdown",
   "id": "588942f2",
   "metadata": {},
   "source": [
    "$((2x - 1)\\sqrt{2x - 1})(\\frac{2}{5}x + \\frac{17}{15}) + C $"
   ]
  },
  {
   "cell_type": "markdown",
   "id": "9293f0bd",
   "metadata": {},
   "source": [
    "## Examples Requiring Integration By Parts"
   ]
  },
  {
   "cell_type": "markdown",
   "id": "2a61d772",
   "metadata": {},
   "source": [
    "#### Integration by Parts\n",
    "\n",
    "$\\int f g' = fg - \\int f' g$"
   ]
  },
  {
   "cell_type": "markdown",
   "id": "e46174b5",
   "metadata": {},
   "source": [
    "__Ex 15__:\n",
    "\n",
    "$\\int x e^{0.1x}dx$"
   ]
  },
  {
   "cell_type": "markdown",
   "id": "dfe09bc3",
   "metadata": {},
   "source": [
    "__Solution:__\n",
    "\n",
    "* $f=x$\n",
    "* $f'=1$\n",
    "* $g=\\int e^{0.1x} dx -> \\int e^{u} 10 du = 10 e^u -> 10 e^{0.1x}$\n",
    "* $g'=e^{0.1x}$"
   ]
  },
  {
   "cell_type": "markdown",
   "id": "5b02e53f",
   "metadata": {},
   "source": [
    "$\\int x e^{0.1x} dx = 10xe^{0.1x} - \\int 10e^{0.1x} dx = $"
   ]
  },
  {
   "cell_type": "markdown",
   "id": "c0fe5f4d",
   "metadata": {},
   "source": [
    "$10xe^{0.1x} - 10 * 10 e^{0.1x} + C = $"
   ]
  },
  {
   "cell_type": "markdown",
   "id": "98a6ea24",
   "metadata": {},
   "source": [
    "$10(x - 10) e^{0.1x} + C $"
   ]
  },
  {
   "cell_type": "markdown",
   "id": "f4f53662",
   "metadata": {},
   "source": [
    "__Ex 16__:\n",
    "\n",
    "$\\int (3-2x)e^{-x} dx$"
   ]
  },
  {
   "cell_type": "markdown",
   "id": "17f4c066",
   "metadata": {},
   "source": [
    "__Solution:__\n",
    "\n",
    "* $f=3-2x$\n",
    "* $f'=-2$\n",
    "* $g=-e^{-x}$\n",
    "* $g'=e^{-x}$"
   ]
  },
  {
   "cell_type": "markdown",
   "id": "dabc55d5",
   "metadata": {},
   "source": [
    "$\\int (3-2x)e^{-x} dx = -e^{-x}(3-2x) - \\int -e^{-x} * (-2)dx = $"
   ]
  },
  {
   "cell_type": "markdown",
   "id": "996a3fbd",
   "metadata": {},
   "source": [
    "$ -3e^{-x}+ 2xe^{-x} - 2 \\int e^{-x} dx = $"
   ]
  },
  {
   "cell_type": "markdown",
   "id": "797237d9",
   "metadata": {},
   "source": [
    "$ -3e^{-x}+ 2xe^{-x} + 2 e^{-x} + C = $"
   ]
  },
  {
   "cell_type": "markdown",
   "id": "0e0af664",
   "metadata": {},
   "source": [
    "$ -e^{-x}+ 2xe^{-x}+ C = $"
   ]
  },
  {
   "cell_type": "markdown",
   "id": "6124dba4",
   "metadata": {},
   "source": [
    "$ e^{-x}(2x-1) + C $"
   ]
  },
  {
   "cell_type": "markdown",
   "id": "dd88ce7e",
   "metadata": {},
   "source": [
    "__Ex 17__:\n",
    "\n",
    "$\\int dx$"
   ]
  },
  {
   "cell_type": "markdown",
   "id": "bb90640f",
   "metadata": {},
   "source": [
    "__Solution:__\n",
    "\n",
    "* $f=$\n",
    "* $f'=$\n",
    "* $g=$\n",
    "* $g'=$"
   ]
  },
  {
   "cell_type": "markdown",
   "id": "a0c19eca",
   "metadata": {},
   "source": [
    "__Ex 18__:\n",
    "\n",
    "$\\int dx$"
   ]
  },
  {
   "cell_type": "markdown",
   "id": "10f788db",
   "metadata": {},
   "source": [
    "__Solution:__\n",
    "\n",
    "* $f=$\n",
    "* $f'=$\n",
    "* $g=$\n",
    "* $g'=$"
   ]
  },
  {
   "cell_type": "markdown",
   "id": "e0ea7a5f",
   "metadata": {},
   "source": [
    "__Ex 19__:\n",
    "\n",
    "$\\int dx$"
   ]
  },
  {
   "cell_type": "markdown",
   "id": "289c0c72",
   "metadata": {},
   "source": [
    "__Solution:__\n",
    "\n",
    "* $f=$\n",
    "* $f'=$\n",
    "* $g=$\n",
    "* $g'=$"
   ]
  },
  {
   "cell_type": "markdown",
   "id": "99fdf579",
   "metadata": {},
   "source": [
    "__Ex 20__:\n",
    "\n",
    "$\\int dx$"
   ]
  },
  {
   "cell_type": "markdown",
   "id": "b0e03998",
   "metadata": {},
   "source": [
    "__Solution:__\n",
    "\n",
    "* $f=$\n",
    "* $f'=$\n",
    "* $g=$\n",
    "* $g'=$"
   ]
  },
  {
   "cell_type": "markdown",
   "id": "08abb179",
   "metadata": {},
   "source": [
    "__Ex 21__:\n",
    "\n",
    "$\\int dx$"
   ]
  },
  {
   "cell_type": "markdown",
   "id": "61238eea",
   "metadata": {},
   "source": [
    "__Solution:__\n",
    "\n",
    "* $f=$\n",
    "* $f'=$\n",
    "* $g=$\n",
    "* $g'=$"
   ]
  }
 ],
 "metadata": {
  "kernelspec": {
   "display_name": "Python 3 (ipykernel)",
   "language": "python",
   "name": "python3"
  },
  "language_info": {
   "codemirror_mode": {
    "name": "ipython",
    "version": 3
   },
   "file_extension": ".py",
   "mimetype": "text/x-python",
   "name": "python",
   "nbconvert_exporter": "python",
   "pygments_lexer": "ipython3",
   "version": "3.10.12"
  }
 },
 "nbformat": 4,
 "nbformat_minor": 5
}
